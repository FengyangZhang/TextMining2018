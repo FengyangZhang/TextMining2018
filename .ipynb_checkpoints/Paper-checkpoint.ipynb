{
 "cells": [
  {
   "cell_type": "markdown",
   "metadata": {
    "deletable": true,
    "editable": true
   },
   "source": [
    "# Understanding of \"GloVe: Global Vectors for Word Representation\""
   ]
  },
  {
   "cell_type": "markdown",
   "metadata": {},
   "source": [
    "Also refrenced http://blog.aylien.com/overview-word-embeddings-history-word2vec-cbow-glove/|\n",
    "\n",
    "http://p.migdal.pl/2017/01/06/king-man-woman-queen-why.html"
   ]
  },
  {
   "cell_type": "markdown",
   "metadata": {},
   "source": [
    "## Related methods\n",
    "---\n",
    "\n",
    "### Matrix Factorization Methods\n",
    "- LSA\n",
    "\n",
    "The matrices are of “term-document” type.\n",
    "- HAL\n",
    "\n",
    "Utilizes matrices of “term-term” type, a main problem with HAL and related meth- ods is that the most frequent words contribute a disproportionate amount to the similarity measure: the number of times two words co-occur with the or and, for example, will have a large effect on their similarity despite conveying relatively little about their semantic relatedness.\n",
    "- PMI (pointwise mutual information)\n",
    "\n",
    "PMI is a typical measure for the strength of association between two words. It is defined as the log ratio between the joint probability of two words and the product of their marginal probabilities.\n",
    "\n",
    "\n",
    "Levy et al demonstrate that word2vec implicitly factorizes a word-context PMI matrix.\n",
    "\n",
    "### Word2Vec\n",
    "- Skip-gram\n",
    "- CBOW\n",
    "\n",
    "### GloVe\n",
    "\n",
    "The ratio of co-occurence is better able to distinguish relevant words, compared to the raw probabilities."
   ]
  },
  {
   "cell_type": "code",
   "execution_count": null,
   "metadata": {
    "collapsed": true
   },
   "outputs": [],
   "source": []
  }
 ],
 "metadata": {
  "kernelspec": {
   "display_name": "Python 2",
   "language": "python",
   "name": "python2"
  },
  "language_info": {
   "codemirror_mode": {
    "name": "ipython",
    "version": 2
   },
   "file_extension": ".py",
   "mimetype": "text/x-python",
   "name": "python",
   "nbconvert_exporter": "python",
   "pygments_lexer": "ipython2",
   "version": "2.7.13"
  }
 },
 "nbformat": 4,
 "nbformat_minor": 2
}
