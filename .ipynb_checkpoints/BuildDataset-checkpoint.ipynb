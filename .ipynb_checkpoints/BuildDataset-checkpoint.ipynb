{
 "cells": [
  {
   "cell_type": "code",
   "execution_count": 3,
   "metadata": {},
   "outputs": [],
   "source": [
    "import json\n",
    "import sys\n",
    "import os\n",
    "import numpy as np"
   ]
  },
  {
   "cell_type": "markdown",
   "metadata": {},
   "source": [
    "## Test what data do we have"
   ]
  },
  {
   "cell_type": "code",
   "execution_count": 23,
   "metadata": {},
   "outputs": [
    {
     "name": "stdout",
     "output_type": "stream",
     "text": [
      "{'py': 'H-Zz_', 'time': 0, 'followed': False, 'userId': 137219155, 'vipType': 0, 'accountStatus': 0, 'nickname': 'H-Zz_', 'follows': 27, 'mutual': False, 'remarkName': None, 'avatarUrl': 'http://p1.music.126.net/5_MUKfJYLubR3ADGRKupiw==/18671906465461230.jpg', 'gender': 1, 'userType': 0, 'experts': None, 'followeds': 12, 'expertTags': None, 'authStatus': 0, 'signature': \"I just wanna live while I'm alive. I wanna a better way to die.\", 'eventCount': 8, 'playlistCount': 2}\n"
     ]
    }
   ],
   "source": [
    "# listen record\n",
    "with open('./testData/myRecord.json') as record:\n",
    "    record = json.load(record)['allData']\n",
    "    \n",
    "# follow list\n",
    "with open('./testData/myFollows.json') as follows:\n",
    "    follows = json.load(follows)['follow']\n",
    "    \n",
    "# "
   ]
  },
  {
   "cell_type": "code",
   "execution_count": null,
   "metadata": {},
   "outputs": [],
   "source": []
  }
 ],
 "metadata": {
  "kernelspec": {
   "display_name": "Python 3",
   "language": "python",
   "name": "python3"
  },
  "language_info": {
   "codemirror_mode": {
    "name": "ipython",
    "version": 3
   },
   "file_extension": ".py",
   "mimetype": "text/x-python",
   "name": "python",
   "nbconvert_exporter": "python",
   "pygments_lexer": "ipython3",
   "version": "3.6.0"
  }
 },
 "nbformat": 4,
 "nbformat_minor": 2
}
