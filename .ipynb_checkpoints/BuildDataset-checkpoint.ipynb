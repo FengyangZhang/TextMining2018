{
 "cells": [
  {
   "cell_type": "code",
   "execution_count": 4,
   "metadata": {},
   "outputs": [],
   "source": [
    "import json\n",
    "import sys\n",
    "import os\n",
    "import numpy as np\n",
    "import urllib.request\n",
    "import requests\n"
   ]
  },
  {
   "cell_type": "markdown",
   "metadata": {},
   "source": [
    "## Test what data do we have"
   ]
  },
  {
   "cell_type": "code",
   "execution_count": 28,
   "metadata": {},
   "outputs": [],
   "source": [
    "def parse_info(url,file_name):    \n",
    "    response = requests.get(url)\n",
    "    with open('./testData/'+file_name, \"wb\") as code:\n",
    "        code.write(response.content)"
   ]
  },
  {
   "cell_type": "code",
   "execution_count": 30,
   "metadata": {},
   "outputs": [],
   "source": [
    "# listen record\n",
    "with open('./testData/myRecord.json') as record:\n",
    "    record = json.load(record)['allData']\n",
    "    \n",
    "#friends id, top100 music input userid    \n",
    "# follow list\n",
    "with open('./testData/myFollows.json') as follows:\n",
    "    follows = json.load(follows)['follow']\n",
    "\n"
   ]
  },
  {
   "cell_type": "code",
   "execution_count": 35,
   "metadata": {},
   "outputs": [
    {
     "name": "stdout",
     "output_type": "stream",
     "text": [
      "[25.0, 50.0, 95.0, 85.0, 60.0, 75.0, 90.0, 65.0, 90.0, 25.0]\n"
     ]
    }
   ],
   "source": [
    "print([record[i]['song']['pop'] for i in range(10)])"
   ]
  },
  {
   "cell_type": "code",
   "execution_count": 114,
   "metadata": {},
   "outputs": [
    {
     "name": "stdout",
     "output_type": "stream",
     "text": [
      "[137219155, 51360221, 912583, 85367812, 77869111, 76759906, 74616173, 63363583, 60761650, 47464158, 37256912, 33169848, 273342817, 264682463, 259295311, 1315483332, 128576138, 12787494, 124328781]\n",
      "{22281945: 25.0, 21163249: 50.0, 27810025: 95.0, 22243374: 85.0, 1703146: 60.0, 22526217: 75.0, 1082484: 90.0, 4142999: 65.0, 21162407: 90.0, 21171856: 25.0, 1702442: 5.0, 22281946: 25.0, 17068663: 65.0, 22497471: 90.0, 1081175: 75.0, 1701157: 40.0, 1702967: 30.0, 21163354: 20.0, 28533584: 95.0, 22451017: 15.0, 26467599: 100.0, 191508: 100.0, 28680438: 100.0, 4279861: 100.0, 1081412: 70.0, 4237846: 100.0, 298250: 100.0, 21163581: 20.0, 1702973: 5.0, 86464: 100.0, 298258: 100.0, 21162887: 25.0, 1705347: 20.0, 18263404: 80.0, 186156: 100.0, 28341498: 100.0, 26418879: 100.0, 21697164: 80.0, 1702959: 25.0, 4237164: 100.0, 186015: 100.0, 30245576: 100.0, 21163338: 25.0, 3560157: 45.0, 31514960: 100.0, 17068625: 45.0, 21163351: 15.0, 28699302: 75.0, 24998528: 75.0, 25657581: 100.0, 19074087: 75.0, 28524608: 80.0, 1703141: 25.0}\n"
     ]
    }
   ],
   "source": [
    "#get userId\n",
    "def userId(uId):\n",
    "    followId = []\n",
    "    parse_info('http://localhost:3000/user/follows?uid='+uId,'UserInfo/'+uId+'.json')\n",
    "    with open('./testData/UserInfo/'+uId+'.json') as follows:\n",
    "        follows = json.load(follows)['follow']\n",
    "    for i in range (len(follows)):\n",
    "        followId.append(follows[i]['userId'])\n",
    "    return followId\n",
    "\n",
    "list = userId('40356946')\n",
    "print(list)\n",
    "\n",
    "#get top100 musics0\n",
    "def T_music(uId):\n",
    "    TopId = {}\n",
    "    parse_info('http://localhost:3000/user/record?uid='+uId+'&type=0',uId+'_record.json')\n",
    "    with open('./testData/'+uId+'_record.json') as records:\n",
    "        records = json.load(records)['allData']\n",
    "    for i in range (53):        \n",
    "        TopId[records[i]['song']['id']] = records[i]['song']['pop']\n",
    "    return TopId\n",
    "   \n",
    "music = T_music('40356946')\n",
    "print(music)\n",
    "\n",
    "\n"
   ]
  },
  {
   "cell_type": "markdown",
   "metadata": {},
   "source": [
    "## Build co-occurrence matrix"
   ]
  },
  {
   "cell_type": "code",
   "execution_count": null,
   "metadata": {},
   "outputs": [],
   "source": [
    "# start from one user, find a certain number of users, find their record, filter out those with pop less than 10.\n"
   ]
  }
 ],
 "metadata": {
  "kernelspec": {
   "display_name": "Python 3",
   "language": "python",
   "name": "python3"
  },
  "language_info": {
   "codemirror_mode": {
    "name": "ipython",
    "version": 3
   },
   "file_extension": ".py",
   "mimetype": "text/x-python",
   "name": "python",
   "nbconvert_exporter": "python",
   "pygments_lexer": "ipython3",
   "version": "3.6.3"
  }
 },
 "nbformat": 4,
 "nbformat_minor": 2
}
