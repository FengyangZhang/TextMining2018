{
 "cells": [
  {
   "cell_type": "code",
   "execution_count": 1,
   "metadata": {},
   "outputs": [],
   "source": [
    "import json\n",
    "import sys\n",
    "import os\n",
    "import numpy as np\n",
    "import urllib.request\n",
    "import requests"
   ]
  },
  {
   "cell_type": "markdown",
   "metadata": {},
   "source": [
    "## Test what data do we have"
   ]
  },
  {
   "cell_type": "code",
   "execution_count": 6,
   "metadata": {},
   "outputs": [],
   "source": [
    "def parse_info(url,file_name):    \n",
    "    response = requests.get(url)\n",
    "    with open(file_name, \"wb\") as code:\n",
    "        code.write(response.content)"
   ]
  },
  {
   "cell_type": "code",
   "execution_count": 7,
   "metadata": {},
   "outputs": [],
   "source": [
    "# listen record\n",
    "with open('./testData/myRecord.json') as record:\n",
    "    record = json.load(record)['allData']\n",
    "    \n",
    "#friends id, top100 music input userid    \n",
    "# follow list\n",
    "with open('./testData/myFollows.json') as follows:\n",
    "    follows = json.load(follows)['follow']\n",
    "\n"
   ]
  },
  {
   "cell_type": "code",
   "execution_count": 8,
   "metadata": {},
   "outputs": [
    {
     "name": "stdout",
     "output_type": "stream",
     "text": [
      "[25.0, 50.0, 95.0, 85.0, 60.0, 75.0, 90.0, 65.0, 90.0, 25.0]\n"
     ]
    }
   ],
   "source": [
    "print([record[i]['song']['pop'] for i in range(10)])"
   ]
  },
  {
   "cell_type": "code",
   "execution_count": 15,
   "metadata": {},
   "outputs": [
    {
     "name": "stdout",
     "output_type": "stream",
     "text": [
      "100\n"
     ]
    }
   ],
   "source": [
    "#get follows list\n",
    "def getFollows(uId):\n",
    "    followId = []\n",
    "    filepath = './trainData/UserInfo/'+uId+'.json'\n",
    "    if(not os.path.exists(filepath)):\n",
    "        parse_info('http://localhost:3000/user/follows?uid='+uId, filepath)\n",
    "    with open(filepath) as follows:\n",
    "        follows = json.load(follows)['follow']\n",
    "    for i in range (len(follows)):\n",
    "        followId.append(follows[i]['userId'])\n",
    "    return followId\n",
    "\n",
    "list = getFollows('40356946')\n",
    "\n",
    "#get top100 musics0\n",
    "def getRecord(uId):\n",
    "    songs = {}\n",
    "    filepath = './trainData/MusicInfo/'+uId+'_record.json'\n",
    "    if(not os.path.exists(filepath)):\n",
    "        parse_info('http://localhost:3000/user/record?uid='+uId+'&type=0',filepath)\n",
    "    with open(filepath) as records:\n",
    "        records = json.load(records)['allData']\n",
    "    print(len(records))\n",
    "    for i in range(len(records)):        \n",
    "        songs[records[i]['song']['id']] = records[i]['song']['pop']\n",
    "    return songs\n",
    "   \n",
    "music = getRecord('40356946')"
   ]
  },
  {
   "cell_type": "markdown",
   "metadata": {},
   "source": [
    "## Build co-occurrence matrix"
   ]
  },
  {
   "cell_type": "code",
   "execution_count": null,
   "metadata": {},
   "outputs": [],
   "source": [
    "# start from one user, find a certain number of users, find their record, filter out those with pop less than 10.\n"
   ]
  }
 ],
 "metadata": {
  "kernelspec": {
   "display_name": "Python 3",
   "language": "python",
   "name": "python3"
  },
  "language_info": {
   "codemirror_mode": {
    "name": "ipython",
    "version": 3
   },
   "file_extension": ".py",
   "mimetype": "text/x-python",
   "name": "python",
   "nbconvert_exporter": "python",
   "pygments_lexer": "ipython3",
   "version": "3.6.0"
  }
 },
 "nbformat": 4,
 "nbformat_minor": 2
}
