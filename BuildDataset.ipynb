{
 "cells": [
  {
   "cell_type": "code",
   "execution_count": 48,
   "metadata": {},
   "outputs": [],
   "source": [
    "import json\n",
    "import sys\n",
    "import os\n",
    "import numpy as np\n",
    "from urllib import request\n",
    "from torch.autograd import Variable\n",
    "import time\n",
    "import torch\n",
    "import torch.optim as optim"
   ]
  },
  {
   "cell_type": "markdown",
   "metadata": {},
   "source": [
    "## Fetch data, declare classes"
   ]
  },
  {
   "cell_type": "code",
   "execution_count": 2,
   "metadata": {},
   "outputs": [],
   "source": [
    "def parse_info(url,file_name):\n",
    "    head = {}\n",
    "    head['User-Agent'] = 'Mozilla/5.0 (Linux; Android 4.1.1; Nexus 7 Build/JRO03D) AppleWebKit/535.19 (KHTML, like Gecko) Chrome/18.0.1025.166  Safari/535.19'\n",
    "    req = request.Request(url, headers=head)\n",
    "    response = request.urlopen(req)\n",
    "    with open(file_name, \"wb\") as f:\n",
    "        f.write(response.read())"
   ]
  },
  {
   "cell_type": "code",
   "execution_count": 3,
   "metadata": {},
   "outputs": [],
   "source": [
    "# listen record\n",
    "with open('./testData/myRecord.json') as record:\n",
    "    record_json = json.load(record)['allData']\n",
    "    \n",
    "#friends id, top100 music input userid    \n",
    "# follow list\n",
    "with open('./testData/myFollows.json') as follows:\n",
    "    follows_json = json.load(follows)['follow']\n",
    "    \n",
    "with open('./testData/detail.json') as user:\n",
    "    user_json = json.load(user)['profile']"
   ]
  },
  {
   "cell_type": "code",
   "execution_count": 4,
   "metadata": {},
   "outputs": [
    {
     "name": "stdout",
     "output_type": "stream",
     "text": [
      "100 Holy Wars...The Punishment Due 25.0 http://p4.music.126.net/APUBHGKPodtQ5rMN-YlHWg==/6636652185938189.jpg\n",
      "95 Angry Again 50.0 http://p4.music.126.net/IfVRAnZ24F18agcHHJbw6Q==/636617232493161.jpg\n",
      "88 Friday I'm In Love 95.0 http://p4.music.126.net/6aW4AorlJaWUMkq7WR-LQw==/17830780068060122.jpg\n",
      "84 Gem 85.0 http://p3.music.126.net/EfH4pPT6AbWIWunyU78d6g==/6630055116402221.jpg\n",
      "84 Symphony of Destruction 60.0 http://p3.music.126.net/w5bB_0ZsnTDb1GGiy53FyA==/6654244371511859.jpg\n",
      "82 Paranoid 75.0 http://p4.music.126.net/V4Iexk29_FYhV6e_Z8iM_g==/2532175279150044.jpg\n",
      "82 Soothsayer (dedicated to Aunt Suzie) 90.0 http://p4.music.126.net/AVd8EAEBwAsVamqv_LjqNQ==/6632254138952435.jpg\n",
      "78 They Will Return 65.0 http://p4.music.126.net/sgziVnLsMuxxwM-0TD1NQQ==/2531075767438385.jpg\n",
      "76 Master Of Puppets 90.0 http://p4.music.126.net/o5TGtGb2BxJo1yIllQP4JQ==/6621259023042637.jpg\n",
      "74 Sultans Of Swing 25.0 http://p3.music.126.net/nxY7xELzxHsGByKdE0XK2Q==/17854969323878329.jpg\n",
      "72 Kill the King 5.0 http://p3.music.126.net/AlipCz2xzyZiui24o6AEug==/1730631302120023.jpg\n",
      "71 Hangar 18 25.0 http://p3.music.126.net/APUBHGKPodtQ5rMN-YlHWg==/6636652185938189.jpg\n",
      "70 Children Of Decedence 65.0 http://p4.music.126.net/9YXySTz3ez4Zf5e0HIcVlA==/2536573325426942.jpg\n",
      "69 Paranoid Android 90.0 http://p3.music.126.net/-ysare1lwC_VQMv5m6l9Yw==/16582834370775137.jpg\n",
      "68 Sled Ride 75.0 http://p4.music.126.net/3E4W4tXGFzArbCncBYwMDQ==/6670737045946094.jpg\n",
      "66 Dialectic Chaos 40.0 http://p4.music.126.net/kQlKMx6ZQMJ2kLPSPT2sDQ==/6666338999406048.jpg\n",
      "64 Blood of Heroes 30.0 http://p4.music.126.net/dHGZLSjv89Z6uFAOGjKyWw==/6657542906394098.jpg\n",
      "62 Tornado Of Souls (2004 Digital Remaster) 20.0 http://p3.music.126.net/aoXCFr7Hzq7CSkQ7g-WKZQ==/2560762581107108.jpg\n",
      "62 Claymation Courtyard 95.0 http://p4.music.126.net/QMDMmj_URf52XUBc8YoxmA==/6018726650830875.jpg\n",
      "62 She-Wolf (2004 Digital Remaster) 15.0 http://p3.music.126.net/zfbhyBKAZrMbYJ35VLjJug==/2579454278797644.jpg\n",
      "61 妳太善良 100.0 http://p4.music.126.net/uOxyqu4h4mHhETJYmSlYag==/6022025185819208.jpg\n",
      "60 走狗 100.0 http://p4.music.126.net/EUBn-L9nHJbiZQd2BbcL6w==/1774611767250165.jpg\n",
      "58 Thinking Out Loud 100.0 http://p4.music.126.net/coUnPtrHg0zUozRCwYOxog==/6051711999665662.jpg\n",
      "58 18 and Life 100.0 http://p3.music.126.net/vcU5fOSxbG58V7g9B_l-cg==/2528876744185362.jpg\n",
      "56 Comfortably Numb 100.0 http://p4.music.126.net/MW0OFD60DW97JWe6O93BIw==/16653203114656056.jpg\n",
      "55 Big D's Touch 70.0 http://p3.music.126.net/LmFYVVo4kDxH4jwIddgTMQ==/6632254138974766.jpg\n",
      "55 Mechanix 20.0 http://p3.music.126.net/J-XNRUXATee57tzS98FCRw==/6652045348626595.jpg\n",
      "55 Youthanasia 5.0 http://p4.music.126.net/dHGZLSjv89Z6uFAOGjKyWw==/6657542906394098.jpg\n",
      "54 我本人 100.0 http://p4.music.126.net/-U2K8GKlASCSXK0cRre1gA==/109951163188718762.jpg\n",
      "53 重复犯错 100.0 http://p3.music.126.net/J7qqZaVGm-fPDkUlGP4czw==/109951163200247709.jpg\n",
      "52 吴哥窟 100.0 http://p4.music.126.net/-U2K8GKlASCSXK0cRre1gA==/109951163188718762.jpg\n",
      "52 13 25.0 http://p4.music.126.net/Lbu3es8j1WfAx8xuebmq9A==/2567359650873760.jpg\n",
      "52 Battle Scars 20.0 http://p4.music.126.net/RcMOeOhsA0AqvEKsHkY51Q==/842225906928499.jpg\n",
      "52 Cemetery Gates 80.0 http://p3.music.126.net/qIp8mTUn7Sp5hI7w18c6sg==/2542070884196759.jpg\n",
      "52 伊斯坦堡 100.0 http://p3.music.126.net/Gd-HAk9hKC85L0wNtfRs1g==/7946170535396804.jpg\n",
      "52 传闻 100.0 http://p3.music.126.net/_0cP-hlq8BD9i3REtoPgiA==/6069304185496291.jpg\n",
      "52 好得很 100.0 http://p4.music.126.net/HhmboqJ5iKAJltyn3ckMhA==/2426622162565291.jpg\n",
      "52 Angel Of Death 80.0 http://p4.music.126.net/VfrEQTCN6o_UyCWceRx3Dg==/6670737046302517.jpg\n",
      "52 A Tout le Monde 25.0 http://p4.music.126.net/dHGZLSjv89Z6uFAOGjKyWw==/6657542906394098.jpg\n",
      "52 \t Lost for Words 100.0 http://p3.music.126.net/u0NaUmkuQ52oxtLpYYwDVA==/16575137789103803.jpg\n",
      "51 懦夫 100.0 http://p3.music.126.net/yjVbsgfNeF2h7fIvnxuZDQ==/18894007811887644.jpg\n",
      "50 小白 100.0 http://p3.music.126.net/pkmXUS6Kt3NFDTKnh3tlTQ==/7798835975900644.jpg\n",
      "50 Holy Wars...The Punishment Due (2004 Digital Remaster) 25.0 http://p4.music.126.net/aoXCFr7Hzq7CSkQ7g-WKZQ==/2560762581107108.jpg\n",
      "50 Master Of Puppets 45.0 http://p3.music.126.net/2xE3O12PUuxgDGUcHASrRw==/6654244371536497.jpg\n",
      "49 上次讲到 100.0 http://p3.music.126.net/gajTnRA5y-DUqO1wsjRGNA==/2887317535174490.jpg\n",
      "49 Lake Bodom 45.0 http://p3.music.126.net/083XtaXQ9gxGOecn8VPN4A==/6659741930073946.jpg\n",
      "49 Lucretia (2004 Digital Remaster) 15.0 http://p3.music.126.net/aoXCFr7Hzq7CSkQ7g-WKZQ==/2560762581107108.jpg\n",
      "49 Hater 75.0 http://p4.music.126.net/gHCNgc2xoFwb2ZitvIWs5Q==/6026423232406160.jpg\n",
      "49 Viva La Vida (Radio Edit) 75.0 http://p4.music.126.net/W5sLGY-dxWioa6vOInSuQg==/748767418548644.jpg\n",
      "48 Black Hole Sun 75.0 http://p3.music.126.net/Ed2aM19q3OQYqE4MXjyGuA==/2528876745030037.jpg\n",
      "48 Photographs 80.0 http://p4.music.126.net/2tf4FmFU1QtZWnxi27OLHw==/6042915906618497.jpg\n",
      "48 Skin O' My Teeth 25.0 http://p3.music.126.net/w5bB_0ZsnTDb1GGiy53FyA==/6654244371511859.jpg\n",
      "47 街灯晚餐 100.0 http://p4.music.126.net/gFEst-n0ykOFL3Uf_x-O0Q==/1666859627714552.jpg\n",
      "47 Chainsaw Slide 65.0 http://p4.music.126.net/QMDMmj_URf52XUBc8YoxmA==/6018726650830875.jpg\n",
      "47 Painkiller 75.0 http://p4.music.126.net/H7fMT1rjI4F-9ER0f20LbA==/18337654928625597.jpg\n",
      "47 公主病 100.0 http://p4.music.126.net/aRmkU-iV0yt0F6UTdEAN3A==/19123805742099070.jpg\n",
      "47 Hallowed Be Thy Name 40.0 http://p3.music.126.net/1ZOt4joRFbH0k122H3mkWg==/1661362069576700.jpg\n",
      "47 Can I Live Again 60.0 http://p4.music.126.net/Vg--aldOpiF6Lr52e1jwKw==/2534374303111008.jpg\n",
      "46 听见下雨的声音 100.0 http://p3.music.126.net/unW9CQcqjzh8BYjsVqosWw==/18874216602702134.jpg\n",
      "45 Paranoid 95.0 http://p4.music.126.net/FYW8etVyFbfH8utWYk-KcA==/708085488295457.jpg\n",
      "45 Coming Undone 90.0 http://p3.music.126.net/2Kj8Q6XWTOl3-C4AuLlThw==/18215609137939252.jpg\n",
      "44 面具 100.0 http://p4.music.126.net/pHN5xLsBlKIwLRsWrhBiYQ==/96757023256825.jpg\n",
      "44 想哭 90.0 http://p4.music.126.net/WJgLE2ImnLgqPPLQSlF7iQ==/114349209289440.jpg\n",
      "44 喜帖街 100.0 http://p4.music.126.net/Y6SrXnKMHZsJ5Kl2eWBgkA==/74766790706381.jpg\n",
      "44 坏翅膀 80.0 http://p3.music.126.net/bryO1pRO9b6q4W06CrPVbw==/7742760883690523.jpg\n",
      "44 孤独的自由 85.0 http://p4.music.126.net/bryO1pRO9b6q4W06CrPVbw==/7742760883690523.jpg\n",
      "44 Reflective 75.0 http://p4.music.126.net/TP4zgz4dfI_a5M9ar_TkpA==/3243559301952957.jpg\n",
      "44 Breed 35.0 http://p3.music.126.net/R6CMjp8AiTMK3zWpd7Dysg==/2542070883595359.jpg\n",
      "44 The Four Horsemen 20.0 http://p4.music.126.net/DeM-v2CmQ7MfnBjZRshZkg==/1656964023058804.jpg\n",
      "44 Tornado Of Souls 50.0 http://p4.music.126.net/APUBHGKPodtQ5rMN-YlHWg==/6636652185938189.jpg\n",
      "43 烟霞 95.0 http://p3.music.126.net/tYBBv1HrxXiIQLeL3EEvYQ==/129742372083327.jpg\n",
      "43 Wait And Bleed 85.0 http://p3.music.126.net/_egKyvKSRwuJvUgqejx1hg==/18191419882124454.jpg\n",
      "43 Stretching Lighthouse 90.0 http://p3.music.126.net/s2N8HxqQT_cVRBtHvW19Mw==/826832744131121.jpg\n",
      "43 Family Tree 5.0 http://p4.music.126.net/dHGZLSjv89Z6uFAOGjKyWw==/6657542906394098.jpg\n",
      "43 Trust 25.0 http://p3.music.126.net/5aB0Nbm7iRCB3a-J4sJyQg==/1819691743969861.jpg\n",
      "42 斩黄袍 85.0 http://p4.music.126.net/lkYSrs1xusXXUkvQjzKubQ==/5511851790129059.jpg\n",
      "42 宏愿 100.0 http://p3.music.126.net/ywjbR63oC6q-deiNPtEg8w==/114349209306677.jpg\n",
      "42 茶底世界 100.0 http://p3.music.126.net/6o8MTKBjSKF5Ky0upag7CA==/5517349348267979.jpg\n",
      "42 A Girl 75.0 http://p4.music.126.net/5PfLfc-d1aAUuRMm0wHisQ==/8886252976032144.jpg\n",
      "42 Enter Sandman 20.0 http://p4.music.126.net/K0pAvWjK4sA8lREs-QygqA==/6624557558276930.jpg\n",
      "42 Psychosocial 100.0 http://p4.music.126.net/aIX0ClgvVx5Yz3bMNrxN4g==/109951163209647138.jpg\n",
      "42 Just Like Heaven 60.0 http://p4.music.126.net/yGOY1qYLWez9I5tg3X6Gpg==/553054348782643.jpg\n",
      "41 Nothing Hurts Like This 100.0 http://p3.music.126.net/K4gkxxZws3kdA5Uke33HOQ==/18326659812041298.jpg\n",
      "41 无人之境 100.0 http://p4.music.126.net/qE_9M-Ge5qwuk55IfkNO2g==/109951163200234557.jpg\n",
      "41 EMOTIONS 85.0 http://p3.music.126.net/ETwVatA1UkJkqIPd87nCTA==/752065953420773.jpg\n",
      "41 梦回唐朝 100.0 http://p4.music.126.net/M6I9g1EkDxbgl2j5Ygi-lQ==/130841883720226.jpg\n",
      "41 Five Magics 20.0 http://p4.music.126.net/APUBHGKPodtQ5rMN-YlHWg==/6636652185938189.jpg\n",
      "41 Train of Consequences 15.0 http://p3.music.126.net/dHGZLSjv89Z6uFAOGjKyWw==/6657542906394098.jpg\n",
      "41 Ride The Lightning 60.0 http://p3.music.126.net/ymsdJXHks108w3nFGs15Lw==/2545369418305548.jpg\n",
      "41 Everytime I Die 90.0 http://p4.music.126.net/l5keOci4tWN2k4KlqG6e4Q==/776255209217635.jpg\n",
      "40 黄粱梦 85.0 http://p4.music.126.net/lkYSrs1xusXXUkvQjzKubQ==/5511851790129059.jpg\n",
      "40 登对 95.0 http://p3.music.126.net/5GuK0m4rQ8JXPEE0xN0_Pw==/6059408580683994.jpg\n",
      "40 够钟 100.0 http://p3.music.126.net/ywjbR63oC6q-deiNPtEg8w==/114349209306677.jpg\n",
      "40 必杀技 100.0 http://p3.music.126.net/IQZR5vcbV86fKd8f998htQ==/6632254138801837.jpg\n",
      "40 生来孤独 95.0 http://p4.music.126.net/kPsFJNSYna6izLzHXziThw==/599233837149718.jpg\n",
      "40 会没事的 75.0 http://p4.music.126.net/bryO1pRO9b6q4W06CrPVbw==/7742760883690523.jpg\n",
      "40 手写的从前 100.0 http://p4.music.126.net/unW9CQcqjzh8BYjsVqosWw==/18874216602702134.jpg\n",
      "40 Captive Honour 5.0 http://p3.music.126.net/w5bB_0ZsnTDb1GGiy53FyA==/6654244371511859.jpg\n",
      "40 Lucretia 25.0 http://p4.music.126.net/APUBHGKPodtQ5rMN-YlHWg==/6636652185938189.jpg\n",
      "39 我不要被你记住 100.0 http://p4.music.126.net/EUBn-L9nHJbiZQd2BbcL6w==/1774611767250165.jpg\n"
     ]
    }
   ],
   "source": [
    "for i in range(len(record_json)):\n",
    "    print(record_json[i]['score'], record_json[i]['song']['name'], record_json[i]['song']['pop'], record_json[i]['song']['al']['picUrl'])"
   ]
  },
  {
   "cell_type": "code",
   "execution_count": 5,
   "metadata": {},
   "outputs": [
    {
     "data": {
      "text/plain": [
       "'http://p4.music.126.net/APUBHGKPodtQ5rMN-YlHWg==/6636652185938189.jpg'"
      ]
     },
     "execution_count": 5,
     "metadata": {},
     "output_type": "execute_result"
    }
   ],
   "source": [
    "record_json[0]['song']['al']['picUrl']"
   ]
  },
  {
   "cell_type": "code",
   "execution_count": 6,
   "metadata": {},
   "outputs": [],
   "source": [
    "class User():\n",
    "    def __init__(self, user_id, user_name, followeds, follows, playlistCount):\n",
    "        self.user_id = user_id\n",
    "        self.user_name = user_name\n",
    "        self.followed_num = followeds\n",
    "        self.follows_num = follows\n",
    "        self.playlist_num = playlistCount\n",
    "        self.follows_list = []\n",
    "    \n",
    "    def getUserId(self):\n",
    "        return self.user_id\n",
    "    \n",
    "    def getUserName(self):\n",
    "        return self.user_name\n",
    "    \n",
    "    def getFollowedNum(self):\n",
    "        return self.followed_num\n",
    "    \n",
    "    def getFollowsNum(self):\n",
    "        return self.follows_num\n",
    "    \n",
    "    def getPlaylistNum(self):\n",
    "        return self.playlist_num\n",
    "    \n",
    "    def getFollowsList(self):\n",
    "        return self.follows_list\n",
    "    \n",
    "    def setUserId(self, user_id):\n",
    "        self.user_id = user_id\n",
    "    \n",
    "    def setUserName(self, user_name):\n",
    "        self.user_name = user_name\n",
    "    \n",
    "    def setFollowedNum(self, followed_num):\n",
    "        self.followed_num = followed_num\n",
    "    \n",
    "    def setFollowsNum(self, follows_num):\n",
    "        self.follows_num = follows_num\n",
    "    \n",
    "    def setPlaylistNum(self, playlist_num):\n",
    "        self.playlist_num = playlist_num\n",
    "        \n",
    "    def setFollowsList(self, follows_list):\n",
    "        self.follows_list = follows_list"
   ]
  },
  {
   "cell_type": "code",
   "execution_count": 7,
   "metadata": {},
   "outputs": [],
   "source": [
    "class Music():\n",
    "    def __init__(self, song_id, song_name, score, pop, url):\n",
    "        self.song_id = song_id\n",
    "        self.song_name = song_name\n",
    "        self.score = score\n",
    "        self.pop = pop\n",
    "        self.url = url\n",
    "        \n",
    "    def getSongId(self):\n",
    "        return self.song_id\n",
    "    \n",
    "    def getSongName(self):\n",
    "        return self.song_name\n",
    "    \n",
    "    def getPop(self):\n",
    "        return self.score\n",
    "    \n",
    "    def getSongUrl(self):\n",
    "        return self.url\n",
    "    \n",
    "    def getScore(self):\n",
    "        return self.score\n",
    "    \n",
    "    def setScore(self, score):\n",
    "        self.score = score\n",
    "        \n",
    "    def setSongUrl(self, url):\n",
    "        self.url= url\n",
    "        \n",
    "    def setSongId(self, song_id): \n",
    "        self.song_id = song_id\n",
    "    \n",
    "    def setSongName(self, song_name):\n",
    "        self.song_name = song_name\n",
    "        \n",
    "    def setPop(self, score):\n",
    "        self.score = score"
   ]
  },
  {
   "cell_type": "code",
   "execution_count": 8,
   "metadata": {},
   "outputs": [],
   "source": [
    "# get a user's follows list\n",
    "# input: uId\n",
    "# output: followsId(list of ids), userList(List of User objs) \n",
    "def getFollows(uId):\n",
    "    followsId = []\n",
    "    userList = []\n",
    "    filepath = './trainData/FollowsInfo/'+uId+'_follows.json'\n",
    "    if(not os.path.exists(filepath)):\n",
    "        parse_info('http://localhost:3000/user/follows?uid='+uId, filepath)\n",
    "    with open(filepath) as follows:\n",
    "        follows_json = json.load(follows)['follow']\n",
    "    for i in range (len(follows_json)):\n",
    "        user_id = str(follows_json[i]['userId'])\n",
    "        user_name = follows_json[i]['nickname']\n",
    "        followeds = follows_json[i]['followeds']\n",
    "        follows = follows_json[i]['follows']\n",
    "        playlistCount = follows_json[i]['playlistCount']\n",
    "        followsId.append(user_id)\n",
    "        userList.append(User(user_id, user_name, followeds, follows, playlistCount))\n",
    "        \n",
    "    return followsId, userList\n",
    "\n",
    "\n",
    "# get a user's record list\n",
    "# input: uId\n",
    "# output: songList(list of Music objs)\n",
    "def getRecord(uId):\n",
    "    songList = []\n",
    "    filepath = './trainData/MusicInfo/'+uId+'_record.json'\n",
    "    if(not os.path.exists(filepath)):\n",
    "        parse_info('http://localhost:3000/user/record?uid='+uId+'&type=0',filepath)\n",
    "    with open(filepath) as records:\n",
    "        records = json.load(records)['allData']\n",
    "    for i in range(len(records)):\n",
    "        song_id = records[i]['song']['id']\n",
    "        song_name = records[i]['song']['name']        \n",
    "        score = records[i]['score']\n",
    "        if('pop' in records[i]['song'].keys()):\n",
    "            pop = records[i]['song']['pop']\n",
    "        else:\n",
    "            pop = 10\n",
    "        \n",
    "        if('picUrl' in records[i]['song']['al']):\n",
    "            url = records[i]['song']['al']['picUrl']\n",
    "        else:\n",
    "            url = ''\n",
    "        \n",
    "        songList.append(Music(song_id, song_name, score, pop, url))\n",
    "    return songList\n",
    "\n",
    "# get a user's profile\n",
    "# input: uId\n",
    "# output: user\n",
    "def getUserInfo(uId):\n",
    "    filepath = './trainData/UserInfo/'+uId+'_user.json'\n",
    "    if(not os.path.exists(filepath)):\n",
    "        parse_info('http://localhost:3000/user/detail?uid='+uId, filepath)\n",
    "    with open(filepath) as userInfo:\n",
    "        user_json = json.load(userInfo)['profile']\n",
    "    \n",
    "    user_id = user_json['userId']\n",
    "    user_name = user_json['nickname']\n",
    "    followeds = user_json['followeds']\n",
    "    follows = user_json['follows']\n",
    "    playlistCount = user_json['playlistCount']\n",
    "    \n",
    "    user = User(user_id, user_name, followeds, follows, playlistCount)\n",
    "        \n",
    "    return user\n",
    "    \n",
    "followsId, userList = getFollows('40356946')\n",
    "# songList = getRecord('40356946')\n",
    "# user_me = getUserInfo('40356946')"
   ]
  },
  {
   "cell_type": "markdown",
   "metadata": {},
   "source": [
    "### get users' info"
   ]
  },
  {
   "cell_type": "code",
   "execution_count": 9,
   "metadata": {},
   "outputs": [
    {
     "name": "stdout",
     "output_type": "stream",
     "text": [
      "500 th query, 5281 users fetched\n",
      "value error in this user's file!\n",
      "1000 th query, 10789 users fetched\n",
      "1500 th query, 15253 users fetched\n",
      "value error in this user's file!\n",
      "value error in this user's file!\n",
      "value error in this user's file!\n",
      "value error in this user's file!\n",
      "value error in this user's file!\n",
      "value error in this user's file!\n",
      "value error in this user's file!\n",
      "value error in this user's file!\n",
      "value error in this user's file!\n",
      "value error in this user's file!\n",
      "value error in this user's file!\n",
      "value error in this user's file!\n",
      "value error in this user's file!\n",
      "value error in this user's file!\n",
      "value error in this user's file!\n",
      "value error in this user's file!\n",
      "value error in this user's file!\n",
      "value error in this user's file!\n",
      "value error in this user's file!\n",
      "value error in this user's file!\n",
      "value error in this user's file!\n",
      "value error in this user's file!\n",
      "value error in this user's file!\n",
      "value error in this user's file!\n",
      "value error in this user's file!\n",
      "value error in this user's file!\n",
      "value error in this user's file!\n",
      "value error in this user's file!\n",
      "value error in this user's file!\n",
      "value error in this user's file!\n",
      "value error in this user's file!\n",
      "value error in this user's file!\n",
      "value error in this user's file!\n",
      "value error in this user's file!\n",
      "value error in this user's file!\n",
      "value error in this user's file!\n",
      "value error in this user's file!\n",
      "value error in this user's file!\n",
      "value error in this user's file!\n",
      "value error in this user's file!\n",
      "value error in this user's file!\n",
      "value error in this user's file!\n",
      "value error in this user's file!\n",
      "value error in this user's file!\n",
      "value error in this user's file!\n",
      "value error in this user's file!\n",
      "value error in this user's file!\n",
      "value error in this user's file!\n",
      "value error in this user's file!\n",
      "value error in this user's file!\n",
      "2000 th query, 19340 users fetched\n",
      "2500 th query, 22781 users fetched\n",
      "3000 th query, 26436 users fetched\n",
      "3500 th query, 30153 users fetched\n",
      "4000 th query, 33457 users fetched\n",
      "4500 th query, 38449 users fetched\n",
      "5000 th query, 43006 users fetched\n",
      "5500 th query, 46134 users fetched\n"
     ]
    }
   ],
   "source": [
    "import queue\n",
    "# start from one user, find a certain number of users, find their record, filter out those with pop less than 10.\n",
    "start_user_id = '40356946'\n",
    "start_user = getUserInfo(start_user_id)\n",
    "q = queue.Queue()\n",
    "\n",
    "q.put(start_user_id)\n",
    "\n",
    "user_dict = {start_user_id:start_user}\n",
    "\n",
    "count = 0\n",
    "while(len(user_dict) < 50000):\n",
    "    cur_user_id = q.get()\n",
    "    cur_user = user_dict[cur_user_id]\n",
    "#     print(cur_user_id)\n",
    "    try:\n",
    "        followsIdList, userList = getFollows(cur_user_id)\n",
    "    except ValueError:\n",
    "        print('value error in this user\\'s file!')\n",
    "        continue\n",
    "    \n",
    "    cur_user.setFollowsList(followsIdList)\n",
    "    \n",
    "    count += 1\n",
    "    if(count % 500 == 0):\n",
    "        print('%d th query, %d users fetched'%(count, len(user_dict)))\n",
    "    for (followsId, user) in zip(followsIdList, userList):\n",
    "        if(followsId not in user_dict):\n",
    "            user_dict[followsId] = user\n",
    "            q.put(followsId)"
   ]
  },
  {
   "cell_type": "markdown",
   "metadata": {},
   "source": [
    "### get song info"
   ]
  },
  {
   "cell_type": "code",
   "execution_count": 20,
   "metadata": {
    "scrolled": false
   },
   "outputs": [
    {
     "name": "stdout",
     "output_type": "stream",
     "text": [
      "1000 th user\n",
      "2000 th user\n",
      "3000 th user\n",
      "4000 th user\n",
      "5000 th user\n",
      "6000 th user\n",
      "7000 th user\n",
      "8000 th user\n",
      "9000 th user\n",
      "10000 th user\n",
      "11000 th user\n",
      "12000 th user\n",
      "13000 th user\n",
      "14000 th user\n",
      "15000 th user\n",
      "16000 th user\n",
      "17000 th user\n",
      "18000 th user\n",
      "19000 th user\n",
      "20000 th user\n",
      "21000 th user\n",
      "22000 th user\n",
      "23000 th user\n",
      "24000 th user\n",
      "25000 th user\n",
      "26000 th user\n",
      "27000 th user\n",
      "28000 th user\n",
      "29000 th user\n",
      "30000 th user\n",
      "31000 th user\n",
      "32000 th user\n",
      "33000 th user\n"
     ]
    }
   ],
   "source": [
    "i = 0\n",
    "total_song_ls = []\n",
    "for user in user_dict:\n",
    "    try:\n",
    "        song_ls = getRecord(user)\n",
    "    except (ValueError, KeyError):\n",
    "        continue\n",
    "    i +=1\n",
    "    total_song_ls.append(song_ls)\n",
    "    if(i % 1000 == 0):\n",
    "        print('%d th user'%i)"
   ]
  },
  {
   "cell_type": "code",
   "execution_count": 21,
   "metadata": {},
   "outputs": [
    {
     "name": "stdout",
     "output_type": "stream",
     "text": [
      "3114603\n"
     ]
    }
   ],
   "source": [
    "print(sum(len(l) for l in total_song_ls))"
   ]
  },
  {
   "cell_type": "code",
   "execution_count": 22,
   "metadata": {},
   "outputs": [],
   "source": [
    "song_id_lists = []\n",
    "all_song_objects = {}\n",
    "for l in total_song_ls:\n",
    "    temp = []\n",
    "    for song in l:\n",
    "        if(song.getPop() < 25 or song.getScore() < 20):\n",
    "            continue\n",
    "        if song.getSongId() not in all_song_objects.keys():\n",
    "            all_song_objects[song.getSongId()] = song\n",
    "        temp.append(song.getSongId())\n",
    "    song_id_lists.append(temp)\n",
    "\n",
    "\n",
    "del(total_song_ls)"
   ]
  },
  {
   "cell_type": "code",
   "execution_count": 23,
   "metadata": {},
   "outputs": [
    {
     "name": "stdout",
     "output_type": "stream",
     "text": [
      "33888 users with song lists\n",
      "284076 songs in total\n"
     ]
    }
   ],
   "source": [
    "song_lists_size = len(song_id_lists)\n",
    "songs_size = len(all_song_objects)\n",
    "print('%d users with song lists'%song_lists_size)\n",
    "print('%d songs in total'%songs_size)"
   ]
  },
  {
   "cell_type": "markdown",
   "metadata": {},
   "source": [
    "## Training"
   ]
  },
  {
   "cell_type": "markdown",
   "metadata": {},
   "source": [
    "### co-occurence matrix"
   ]
  },
  {
   "cell_type": "code",
   "execution_count": 24,
   "metadata": {},
   "outputs": [],
   "source": [
    "sid2num = {sid:num for num, sid in enumerate(all_song_objects.keys())}\n",
    "num2sid = {num:sid for num, sid in enumerate(all_song_objects.keys())}"
   ]
  },
  {
   "cell_type": "code",
   "execution_count": 58,
   "metadata": {
    "scrolled": true
   },
   "outputs": [
    {
     "name": "stdout",
     "output_type": "stream",
     "text": [
      "2000 th list\n",
      "4000 th list\n",
      "6000 th list\n",
      "8000 th list\n",
      "10000 th list\n",
      "12000 th list\n",
      "14000 th list\n",
      "16000 th list\n",
      "18000 th list\n",
      "20000 th list\n",
      "22000 th list\n",
      "24000 th list\n",
      "26000 th list\n",
      "28000 th list\n",
      "30000 th list\n",
      "32000 th list\n"
     ]
    }
   ],
   "source": [
    "comat = {}\n",
    "for i in range(song_lists_size):\n",
    "    if((i+1)%2000 == 0):\n",
    "        print('%d th list'%(i+1))\n",
    "    for j in range(len(song_id_lists[i])):\n",
    "        num = sid2num[song_id_lists[i][j]]\n",
    "        for k in range(len(song_id_lists[i])):\n",
    "            if(k == j):\n",
    "                continue\n",
    "            else:\n",
    "                pnum = sid2num[song_id_lists[i][k]]\n",
    "                if((num, pnum) in comat.keys()):\n",
    "                    comat[(num, pnum)] += 1.0\n",
    "                else:\n",
    "                    comat[(num, pnum)] = 1.0\n",
    "                    \n",
    "comat = list(comat.items())"
   ]
  },
  {
   "cell_type": "code",
   "execution_count": 64,
   "metadata": {},
   "outputs": [],
   "source": [
    "comat = sorted(comat, key=lambda x: x[1])[::-1]"
   ]
  },
  {
   "cell_type": "code",
   "execution_count": 60,
   "metadata": {},
   "outputs": [
    {
     "name": "stdout",
     "output_type": "stream",
     "text": [
      "如果我爱你\n"
     ]
    }
   ],
   "source": [
    "print(all_song_objects[num2sid[6588]].getSongName())"
   ]
  },
  {
   "cell_type": "code",
   "execution_count": 61,
   "metadata": {},
   "outputs": [],
   "source": [
    "# declare hyper-parameters for training\n",
    "embed_size = 50\n",
    "batch_size = 10\n",
    "l_rate = 0.005\n",
    "num_epochs = 20\n",
    "log_iter = 100"
   ]
  },
  {
   "cell_type": "code",
   "execution_count": 79,
   "metadata": {},
   "outputs": [],
   "source": [
    "# filter out co-occurence that's too small\n",
    "comat = [(song_pair, freq) for song_pair, freq in comat if freq > 2]"
   ]
  },
  {
   "cell_type": "code",
   "execution_count": 83,
   "metadata": {},
   "outputs": [],
   "source": [
    "# update the all_song_objects dict to final_dict_objects\n",
    "training_songs = set()\n",
    "for item in comat:\n",
    "    training_songs.add(item[0][0])\n",
    "    training_songs.add(item[0][1])\n",
    "    \n",
    "final_song_objects = {}\n",
    "for sid in all_song_objects.keys():\n",
    "    if(sid2num[sid] in training_songs):\n",
    "        final_song_objects[sid] = all_song_objects[sid]\n",
    "        \n",
    "del(all_song_objects)\n",
    "songs_size = len(final_song_objects)"
   ]
  },
  {
   "cell_type": "code",
   "execution_count": 84,
   "metadata": {},
   "outputs": [
    {
     "name": "stdout",
     "output_type": "stream",
     "text": [
      "42157\n"
     ]
    }
   ],
   "source": [
    "print(songs_size)"
   ]
  },
  {
   "cell_type": "markdown",
   "metadata": {},
   "source": [
    "### start training"
   ]
  },
  {
   "cell_type": "code",
   "execution_count": 49,
   "metadata": {},
   "outputs": [],
   "source": [
    "alpha = 0.75\n",
    "xmax = 100\n",
    "# Weight function\n",
    "def wf(x):\n",
    "    if x < xmax:\n",
    "        return (x/xmax)**alpha\n",
    "    return 1\n",
    "\n",
    "# Set up word vectors and biases\n",
    "l_embed, r_embed = [\n",
    "    [Variable(torch.from_numpy(np.random.normal(0, 0.01, (embed_size, 1))),\n",
    "        requires_grad = True) for j in range(songs_size)] for i in range(2)]\n",
    "l_biases, r_biases = [\n",
    "    [Variable(torch.from_numpy(np.random.normal(0, 0.01, 1)), \n",
    "        requires_grad = True) for j in range(songs_size)] for i in range(2)]\n",
    "\n",
    "# Set up optimizer\n",
    "optimizer = optim.Adam(l_embed + r_embed + l_biases + r_biases, lr = l_rate)\n",
    "\n",
    "# Batch sampling function\n",
    "def gen_batch():\n",
    "    sample = np.random.choice(np.arange(len(comat)), size=batch_size, replace=False)\n",
    "    l_vecs, r_vecs, covals, l_v_bias, r_v_bias = [], [], [], [], []\n",
    "    for chosen in sample:\n",
    "        ind = comat[chosen][0]\n",
    "        l_vecs.append(l_embed[ind[0]])\n",
    "        r_vecs.append(r_embed[ind[1]])\n",
    "        covals.append(comat[chosen][1])\n",
    "        l_v_bias.append(l_biases[ind[0]])\n",
    "        r_v_bias.append(r_biases[ind[1]])\n",
    "    return l_vecs, r_vecs, covals, l_v_bias, r_v_bias"
   ]
  },
  {
   "cell_type": "code",
   "execution_count": null,
   "metadata": {},
   "outputs": [],
   "source": [
    "# Train model\n",
    "for epoch in range(num_epochs):\n",
    "    num_batches = int(songs_list/batch_size)\n",
    "    avg_loss = 0.0\n",
    "    for batch in range(num_batches):\n",
    "        optimizer.zero_grad()\n",
    "        l_vecs, r_vecs, covals, l_v_bias, r_v_bias = gen_batch()\n",
    "        loss = sum([torch.mul( ( torch.dot(l_vecs[i].view(-1), r_vecs[i].view(-1)) +\n",
    "                l_v_bias[i] + r_v_bias[i] - np.log(covals[i]) )**2,\n",
    "                wf(covals[i]) ) for i in range(batch_size)])\n",
    "        avg_loss += loss.data[0]/num_batches\n",
    "        loss.backward()\n",
    "        optimizer.step()\n",
    "    if batch % 1 == 0:\n",
    "        print('Epoch [%d/%d], Iteration [%d/%d], Loss: %.4f'\n",
    "              %(epoch, num_epochs, batch, num_batches, avg_loss)) "
   ]
  }
 ],
 "metadata": {
  "kernelspec": {
   "display_name": "Python 3",
   "language": "python",
   "name": "python3"
  },
  "language_info": {
   "codemirror_mode": {
    "name": "ipython",
    "version": 3
   },
   "file_extension": ".py",
   "mimetype": "text/x-python",
   "name": "python",
   "nbconvert_exporter": "python",
   "pygments_lexer": "ipython3",
   "version": "3.6.0"
  }
 },
 "nbformat": 4,
 "nbformat_minor": 2
}
