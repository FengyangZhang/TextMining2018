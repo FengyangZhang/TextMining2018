{
 "cells": [
  {
   "cell_type": "code",
   "execution_count": 1,
   "metadata": {},
   "outputs": [],
   "source": [
    "import json\n",
    "import sys\n",
    "import os\n",
    "import numpy as np\n",
    "from urllib import request\n",
    "from torch.autograd import Variable\n",
    "import time\n",
    "import torch\n",
    "import torch.optim as optim\n",
    "from tqdm import tqdm\n",
    "import math"
   ]
  },
  {
   "cell_type": "markdown",
   "metadata": {},
   "source": [
    "## Fetch data, declare classes"
   ]
  },
  {
   "cell_type": "code",
   "execution_count": 2,
   "metadata": {},
   "outputs": [],
   "source": [
    "def parse_info(url,file_name):\n",
    "    head = {}\n",
    "    head['User-Agent'] = 'Mozilla/5.0 (Linux; Android 4.1.1; Nexus 7 Build/JRO03D) AppleWebKit/535.19 (KHTML, like Gecko) Chrome/18.0.1025.166  Safari/535.19'\n",
    "    req = request.Request(url, headers=head)\n",
    "    response = request.urlopen(req)\n",
    "    with open(file_name, \"wb\") as f:\n",
    "        f.write(response.read())"
   ]
  },
  {
   "cell_type": "code",
   "execution_count": 3,
   "metadata": {},
   "outputs": [],
   "source": [
    "# listen record\n",
    "with open('./testData/myRecord.json') as record:\n",
    "    record_json = json.load(record)['allData']\n",
    "    \n",
    "#friends id, top100 music input userid    \n",
    "# follow list\n",
    "with open('./testData/myFollows.json') as follows:\n",
    "    follows_json = json.load(follows)['follow']\n",
    "    \n",
    "with open('./testData/detail.json') as user:\n",
    "    user_json = json.load(user)['profile']"
   ]
  },
  {
   "cell_type": "code",
   "execution_count": 4,
   "metadata": {},
   "outputs": [
    {
     "name": "stdout",
     "output_type": "stream",
     "text": [
      "100 Holy Wars...The Punishment Due 25.0 http://p4.music.126.net/APUBHGKPodtQ5rMN-YlHWg==/6636652185938189.jpg\n",
      "95 Angry Again 50.0 http://p4.music.126.net/IfVRAnZ24F18agcHHJbw6Q==/636617232493161.jpg\n",
      "88 Friday I'm In Love 95.0 http://p4.music.126.net/6aW4AorlJaWUMkq7WR-LQw==/17830780068060122.jpg\n",
      "84 Gem 85.0 http://p3.music.126.net/EfH4pPT6AbWIWunyU78d6g==/6630055116402221.jpg\n",
      "84 Symphony of Destruction 60.0 http://p3.music.126.net/w5bB_0ZsnTDb1GGiy53FyA==/6654244371511859.jpg\n",
      "82 Paranoid 75.0 http://p4.music.126.net/V4Iexk29_FYhV6e_Z8iM_g==/2532175279150044.jpg\n",
      "82 Soothsayer (dedicated to Aunt Suzie) 90.0 http://p4.music.126.net/AVd8EAEBwAsVamqv_LjqNQ==/6632254138952435.jpg\n",
      "78 They Will Return 65.0 http://p4.music.126.net/sgziVnLsMuxxwM-0TD1NQQ==/2531075767438385.jpg\n",
      "76 Master Of Puppets 90.0 http://p4.music.126.net/o5TGtGb2BxJo1yIllQP4JQ==/6621259023042637.jpg\n",
      "74 Sultans Of Swing 25.0 http://p3.music.126.net/nxY7xELzxHsGByKdE0XK2Q==/17854969323878329.jpg\n",
      "72 Kill the King 5.0 http://p3.music.126.net/AlipCz2xzyZiui24o6AEug==/1730631302120023.jpg\n",
      "71 Hangar 18 25.0 http://p3.music.126.net/APUBHGKPodtQ5rMN-YlHWg==/6636652185938189.jpg\n",
      "70 Children Of Decedence 65.0 http://p4.music.126.net/9YXySTz3ez4Zf5e0HIcVlA==/2536573325426942.jpg\n",
      "69 Paranoid Android 90.0 http://p3.music.126.net/-ysare1lwC_VQMv5m6l9Yw==/16582834370775137.jpg\n",
      "68 Sled Ride 75.0 http://p4.music.126.net/3E4W4tXGFzArbCncBYwMDQ==/6670737045946094.jpg\n",
      "66 Dialectic Chaos 40.0 http://p4.music.126.net/kQlKMx6ZQMJ2kLPSPT2sDQ==/6666338999406048.jpg\n",
      "64 Blood of Heroes 30.0 http://p4.music.126.net/dHGZLSjv89Z6uFAOGjKyWw==/6657542906394098.jpg\n",
      "62 Tornado Of Souls (2004 Digital Remaster) 20.0 http://p3.music.126.net/aoXCFr7Hzq7CSkQ7g-WKZQ==/2560762581107108.jpg\n",
      "62 Claymation Courtyard 95.0 http://p4.music.126.net/QMDMmj_URf52XUBc8YoxmA==/6018726650830875.jpg\n",
      "62 She-Wolf (2004 Digital Remaster) 15.0 http://p3.music.126.net/zfbhyBKAZrMbYJ35VLjJug==/2579454278797644.jpg\n",
      "61 妳太善良 100.0 http://p4.music.126.net/uOxyqu4h4mHhETJYmSlYag==/6022025185819208.jpg\n",
      "60 走狗 100.0 http://p4.music.126.net/EUBn-L9nHJbiZQd2BbcL6w==/1774611767250165.jpg\n",
      "58 Thinking Out Loud 100.0 http://p4.music.126.net/coUnPtrHg0zUozRCwYOxog==/6051711999665662.jpg\n",
      "58 18 and Life 100.0 http://p3.music.126.net/vcU5fOSxbG58V7g9B_l-cg==/2528876744185362.jpg\n",
      "56 Comfortably Numb 100.0 http://p4.music.126.net/MW0OFD60DW97JWe6O93BIw==/16653203114656056.jpg\n",
      "55 Big D's Touch 70.0 http://p3.music.126.net/LmFYVVo4kDxH4jwIddgTMQ==/6632254138974766.jpg\n",
      "55 Mechanix 20.0 http://p3.music.126.net/J-XNRUXATee57tzS98FCRw==/6652045348626595.jpg\n",
      "55 Youthanasia 5.0 http://p4.music.126.net/dHGZLSjv89Z6uFAOGjKyWw==/6657542906394098.jpg\n",
      "54 我本人 100.0 http://p4.music.126.net/-U2K8GKlASCSXK0cRre1gA==/109951163188718762.jpg\n",
      "53 重复犯错 100.0 http://p3.music.126.net/J7qqZaVGm-fPDkUlGP4czw==/109951163200247709.jpg\n",
      "52 吴哥窟 100.0 http://p4.music.126.net/-U2K8GKlASCSXK0cRre1gA==/109951163188718762.jpg\n",
      "52 13 25.0 http://p4.music.126.net/Lbu3es8j1WfAx8xuebmq9A==/2567359650873760.jpg\n",
      "52 Battle Scars 20.0 http://p4.music.126.net/RcMOeOhsA0AqvEKsHkY51Q==/842225906928499.jpg\n",
      "52 Cemetery Gates 80.0 http://p3.music.126.net/qIp8mTUn7Sp5hI7w18c6sg==/2542070884196759.jpg\n",
      "52 伊斯坦堡 100.0 http://p3.music.126.net/Gd-HAk9hKC85L0wNtfRs1g==/7946170535396804.jpg\n",
      "52 传闻 100.0 http://p3.music.126.net/_0cP-hlq8BD9i3REtoPgiA==/6069304185496291.jpg\n",
      "52 好得很 100.0 http://p4.music.126.net/HhmboqJ5iKAJltyn3ckMhA==/2426622162565291.jpg\n",
      "52 Angel Of Death 80.0 http://p4.music.126.net/VfrEQTCN6o_UyCWceRx3Dg==/6670737046302517.jpg\n",
      "52 A Tout le Monde 25.0 http://p4.music.126.net/dHGZLSjv89Z6uFAOGjKyWw==/6657542906394098.jpg\n",
      "52 \t Lost for Words 100.0 http://p3.music.126.net/u0NaUmkuQ52oxtLpYYwDVA==/16575137789103803.jpg\n",
      "51 懦夫 100.0 http://p3.music.126.net/yjVbsgfNeF2h7fIvnxuZDQ==/18894007811887644.jpg\n",
      "50 小白 100.0 http://p3.music.126.net/pkmXUS6Kt3NFDTKnh3tlTQ==/7798835975900644.jpg\n",
      "50 Holy Wars...The Punishment Due (2004 Digital Remaster) 25.0 http://p4.music.126.net/aoXCFr7Hzq7CSkQ7g-WKZQ==/2560762581107108.jpg\n",
      "50 Master Of Puppets 45.0 http://p3.music.126.net/2xE3O12PUuxgDGUcHASrRw==/6654244371536497.jpg\n",
      "49 上次讲到 100.0 http://p3.music.126.net/gajTnRA5y-DUqO1wsjRGNA==/2887317535174490.jpg\n",
      "49 Lake Bodom 45.0 http://p3.music.126.net/083XtaXQ9gxGOecn8VPN4A==/6659741930073946.jpg\n",
      "49 Lucretia (2004 Digital Remaster) 15.0 http://p3.music.126.net/aoXCFr7Hzq7CSkQ7g-WKZQ==/2560762581107108.jpg\n",
      "49 Hater 75.0 http://p4.music.126.net/gHCNgc2xoFwb2ZitvIWs5Q==/6026423232406160.jpg\n",
      "49 Viva La Vida (Radio Edit) 75.0 http://p4.music.126.net/W5sLGY-dxWioa6vOInSuQg==/748767418548644.jpg\n",
      "48 Black Hole Sun 75.0 http://p3.music.126.net/Ed2aM19q3OQYqE4MXjyGuA==/2528876745030037.jpg\n",
      "48 Photographs 80.0 http://p4.music.126.net/2tf4FmFU1QtZWnxi27OLHw==/6042915906618497.jpg\n",
      "48 Skin O' My Teeth 25.0 http://p3.music.126.net/w5bB_0ZsnTDb1GGiy53FyA==/6654244371511859.jpg\n",
      "47 街灯晚餐 100.0 http://p4.music.126.net/gFEst-n0ykOFL3Uf_x-O0Q==/1666859627714552.jpg\n",
      "47 Chainsaw Slide 65.0 http://p4.music.126.net/QMDMmj_URf52XUBc8YoxmA==/6018726650830875.jpg\n",
      "47 Painkiller 75.0 http://p4.music.126.net/H7fMT1rjI4F-9ER0f20LbA==/18337654928625597.jpg\n",
      "47 公主病 100.0 http://p4.music.126.net/aRmkU-iV0yt0F6UTdEAN3A==/19123805742099070.jpg\n",
      "47 Hallowed Be Thy Name 40.0 http://p3.music.126.net/1ZOt4joRFbH0k122H3mkWg==/1661362069576700.jpg\n",
      "47 Can I Live Again 60.0 http://p4.music.126.net/Vg--aldOpiF6Lr52e1jwKw==/2534374303111008.jpg\n",
      "46 听见下雨的声音 100.0 http://p3.music.126.net/unW9CQcqjzh8BYjsVqosWw==/18874216602702134.jpg\n",
      "45 Paranoid 95.0 http://p4.music.126.net/FYW8etVyFbfH8utWYk-KcA==/708085488295457.jpg\n",
      "45 Coming Undone 90.0 http://p3.music.126.net/2Kj8Q6XWTOl3-C4AuLlThw==/18215609137939252.jpg\n",
      "44 面具 100.0 http://p4.music.126.net/pHN5xLsBlKIwLRsWrhBiYQ==/96757023256825.jpg\n",
      "44 想哭 90.0 http://p4.music.126.net/WJgLE2ImnLgqPPLQSlF7iQ==/114349209289440.jpg\n",
      "44 喜帖街 100.0 http://p4.music.126.net/Y6SrXnKMHZsJ5Kl2eWBgkA==/74766790706381.jpg\n",
      "44 坏翅膀 80.0 http://p3.music.126.net/bryO1pRO9b6q4W06CrPVbw==/7742760883690523.jpg\n",
      "44 孤独的自由 85.0 http://p4.music.126.net/bryO1pRO9b6q4W06CrPVbw==/7742760883690523.jpg\n",
      "44 Reflective 75.0 http://p4.music.126.net/TP4zgz4dfI_a5M9ar_TkpA==/3243559301952957.jpg\n",
      "44 Breed 35.0 http://p3.music.126.net/R6CMjp8AiTMK3zWpd7Dysg==/2542070883595359.jpg\n",
      "44 The Four Horsemen 20.0 http://p4.music.126.net/DeM-v2CmQ7MfnBjZRshZkg==/1656964023058804.jpg\n",
      "44 Tornado Of Souls 50.0 http://p4.music.126.net/APUBHGKPodtQ5rMN-YlHWg==/6636652185938189.jpg\n",
      "43 烟霞 95.0 http://p3.music.126.net/tYBBv1HrxXiIQLeL3EEvYQ==/129742372083327.jpg\n",
      "43 Wait And Bleed 85.0 http://p3.music.126.net/_egKyvKSRwuJvUgqejx1hg==/18191419882124454.jpg\n",
      "43 Stretching Lighthouse 90.0 http://p3.music.126.net/s2N8HxqQT_cVRBtHvW19Mw==/826832744131121.jpg\n",
      "43 Family Tree 5.0 http://p4.music.126.net/dHGZLSjv89Z6uFAOGjKyWw==/6657542906394098.jpg\n",
      "43 Trust 25.0 http://p3.music.126.net/5aB0Nbm7iRCB3a-J4sJyQg==/1819691743969861.jpg\n",
      "42 斩黄袍 85.0 http://p4.music.126.net/lkYSrs1xusXXUkvQjzKubQ==/5511851790129059.jpg\n",
      "42 宏愿 100.0 http://p3.music.126.net/ywjbR63oC6q-deiNPtEg8w==/114349209306677.jpg\n",
      "42 茶底世界 100.0 http://p3.music.126.net/6o8MTKBjSKF5Ky0upag7CA==/5517349348267979.jpg\n",
      "42 A Girl 75.0 http://p4.music.126.net/5PfLfc-d1aAUuRMm0wHisQ==/8886252976032144.jpg\n",
      "42 Enter Sandman 20.0 http://p4.music.126.net/K0pAvWjK4sA8lREs-QygqA==/6624557558276930.jpg\n",
      "42 Psychosocial 100.0 http://p4.music.126.net/aIX0ClgvVx5Yz3bMNrxN4g==/109951163209647138.jpg\n",
      "42 Just Like Heaven 60.0 http://p4.music.126.net/yGOY1qYLWez9I5tg3X6Gpg==/553054348782643.jpg\n",
      "41 Nothing Hurts Like This 100.0 http://p3.music.126.net/K4gkxxZws3kdA5Uke33HOQ==/18326659812041298.jpg\n",
      "41 无人之境 100.0 http://p4.music.126.net/qE_9M-Ge5qwuk55IfkNO2g==/109951163200234557.jpg\n",
      "41 EMOTIONS 85.0 http://p3.music.126.net/ETwVatA1UkJkqIPd87nCTA==/752065953420773.jpg\n",
      "41 梦回唐朝 100.0 http://p4.music.126.net/M6I9g1EkDxbgl2j5Ygi-lQ==/130841883720226.jpg\n",
      "41 Five Magics 20.0 http://p4.music.126.net/APUBHGKPodtQ5rMN-YlHWg==/6636652185938189.jpg\n",
      "41 Train of Consequences 15.0 http://p3.music.126.net/dHGZLSjv89Z6uFAOGjKyWw==/6657542906394098.jpg\n",
      "41 Ride The Lightning 60.0 http://p3.music.126.net/ymsdJXHks108w3nFGs15Lw==/2545369418305548.jpg\n",
      "41 Everytime I Die 90.0 http://p4.music.126.net/l5keOci4tWN2k4KlqG6e4Q==/776255209217635.jpg\n",
      "40 黄粱梦 85.0 http://p4.music.126.net/lkYSrs1xusXXUkvQjzKubQ==/5511851790129059.jpg\n",
      "40 登对 95.0 http://p3.music.126.net/5GuK0m4rQ8JXPEE0xN0_Pw==/6059408580683994.jpg\n",
      "40 够钟 100.0 http://p3.music.126.net/ywjbR63oC6q-deiNPtEg8w==/114349209306677.jpg\n",
      "40 必杀技 100.0 http://p3.music.126.net/IQZR5vcbV86fKd8f998htQ==/6632254138801837.jpg\n",
      "40 生来孤独 95.0 http://p4.music.126.net/kPsFJNSYna6izLzHXziThw==/599233837149718.jpg\n",
      "40 会没事的 75.0 http://p4.music.126.net/bryO1pRO9b6q4W06CrPVbw==/7742760883690523.jpg\n",
      "40 手写的从前 100.0 http://p4.music.126.net/unW9CQcqjzh8BYjsVqosWw==/18874216602702134.jpg\n",
      "40 Captive Honour 5.0 http://p3.music.126.net/w5bB_0ZsnTDb1GGiy53FyA==/6654244371511859.jpg\n",
      "40 Lucretia 25.0 http://p4.music.126.net/APUBHGKPodtQ5rMN-YlHWg==/6636652185938189.jpg\n",
      "39 我不要被你记住 100.0 http://p4.music.126.net/EUBn-L9nHJbiZQd2BbcL6w==/1774611767250165.jpg\n"
     ]
    }
   ],
   "source": [
    "for i in range(len(record_json)):\n",
    "    print(record_json[i]['score'], record_json[i]['song']['name'], record_json[i]['song']['pop'], record_json[i]['song']['al']['picUrl'])"
   ]
  },
  {
   "cell_type": "code",
   "execution_count": 5,
   "metadata": {},
   "outputs": [
    {
     "data": {
      "text/plain": [
       "'http://p4.music.126.net/APUBHGKPodtQ5rMN-YlHWg==/6636652185938189.jpg'"
      ]
     },
     "execution_count": 5,
     "metadata": {},
     "output_type": "execute_result"
    }
   ],
   "source": [
    "record_json[0]['song']['al']['picUrl']"
   ]
  },
  {
   "cell_type": "code",
   "execution_count": 6,
   "metadata": {},
   "outputs": [],
   "source": [
    "class User():\n",
    "    def __init__(self, user_id, user_name, followeds, follows, playlistCount):\n",
    "        self.user_id = user_id\n",
    "        self.user_name = user_name\n",
    "        self.followed_num = followeds\n",
    "        self.follows_num = follows\n",
    "        self.playlist_num = playlistCount\n",
    "        self.follows_list = []\n",
    "    \n",
    "    def getUserId(self):\n",
    "        return self.user_id\n",
    "    \n",
    "    def getUserName(self):\n",
    "        return self.user_name\n",
    "    \n",
    "    def getFollowedNum(self):\n",
    "        return self.followed_num\n",
    "    \n",
    "    def getFollowsNum(self):\n",
    "        return self.follows_num\n",
    "    \n",
    "    def getPlaylistNum(self):\n",
    "        return self.playlist_num\n",
    "    \n",
    "    def getFollowsList(self):\n",
    "        return self.follows_list\n",
    "    \n",
    "    def setUserId(self, user_id):\n",
    "        self.user_id = user_id\n",
    "    \n",
    "    def setUserName(self, user_name):\n",
    "        self.user_name = user_name\n",
    "    \n",
    "    def setFollowedNum(self, followed_num):\n",
    "        self.followed_num = followed_num\n",
    "    \n",
    "    def setFollowsNum(self, follows_num):\n",
    "        self.follows_num = follows_num\n",
    "    \n",
    "    def setPlaylistNum(self, playlist_num):\n",
    "        self.playlist_num = playlist_num\n",
    "        \n",
    "    def setFollowsList(self, follows_list):\n",
    "        self.follows_list = follows_list"
   ]
  },
  {
   "cell_type": "code",
   "execution_count": 7,
   "metadata": {},
   "outputs": [],
   "source": [
    "class Music():\n",
    "    def __init__(self, song_id, song_name, score, pop, url):\n",
    "        self.song_id = song_id\n",
    "        self.song_name = song_name\n",
    "        self.score = score\n",
    "        self.pop = pop\n",
    "        self.url = url\n",
    "        \n",
    "    def getSongId(self):\n",
    "        return self.song_id\n",
    "    \n",
    "    def getSongName(self):\n",
    "        return self.song_name\n",
    "    \n",
    "    def getPop(self):\n",
    "        return self.score\n",
    "    \n",
    "    def getSongUrl(self):\n",
    "        return self.url\n",
    "    \n",
    "    def getScore(self):\n",
    "        return self.score\n",
    "    \n",
    "    def setScore(self, score):\n",
    "        self.score = score\n",
    "        \n",
    "    def setSongUrl(self, url):\n",
    "        self.url= url\n",
    "        \n",
    "    def setSongId(self, song_id): \n",
    "        self.song_id = song_id\n",
    "    \n",
    "    def setSongName(self, song_name):\n",
    "        self.song_name = song_name\n",
    "        \n",
    "    def setPop(self, score):\n",
    "        self.score = score"
   ]
  },
  {
   "cell_type": "code",
   "execution_count": 8,
   "metadata": {},
   "outputs": [],
   "source": [
    "# get a user's follows list\n",
    "# input: uId\n",
    "# output: followsId(list of ids), userList(List of User objs) \n",
    "def getFollows(uId):\n",
    "    followsId = []\n",
    "    userList = []\n",
    "    filepath = './trainData/FollowsInfo/'+uId+'_follows.json'\n",
    "    if(not os.path.exists(filepath)):\n",
    "        parse_info('http://localhost:3000/user/follows?uid='+uId, filepath)\n",
    "    with open(filepath) as follows:\n",
    "        follows_json = json.load(follows)['follow']\n",
    "    for i in range (len(follows_json)):\n",
    "        user_id = str(follows_json[i]['userId'])\n",
    "        user_name = follows_json[i]['nickname']\n",
    "        followeds = follows_json[i]['followeds']\n",
    "        follows = follows_json[i]['follows']\n",
    "        playlistCount = follows_json[i]['playlistCount']\n",
    "        followsId.append(user_id)\n",
    "        userList.append(User(user_id, user_name, followeds, follows, playlistCount))\n",
    "        \n",
    "    return followsId, userList\n",
    "\n",
    "\n",
    "# get a user's record list\n",
    "# input: uId\n",
    "# output: songList(list of Music objs)\n",
    "def getRecord(uId):\n",
    "    songList = []\n",
    "    filepath = './trainData/MusicInfo/'+uId+'_record.json'\n",
    "    if(not os.path.exists(filepath)):\n",
    "        parse_info('http://localhost:3000/user/record?uid='+uId+'&type=0',filepath)\n",
    "    with open(filepath) as records:\n",
    "        records = json.load(records)['allData']\n",
    "    for i in range(len(records)):\n",
    "        song_id = records[i]['song']['id']\n",
    "        song_name = records[i]['song']['name']        \n",
    "        score = records[i]['score']\n",
    "        if('pop' in records[i]['song'].keys()):\n",
    "            pop = records[i]['song']['pop']\n",
    "        else:\n",
    "            pop = 10\n",
    "        \n",
    "        if('picUrl' in records[i]['song']['al']):\n",
    "            url = records[i]['song']['al']['picUrl']\n",
    "        else:\n",
    "            url = ''\n",
    "        \n",
    "        songList.append(Music(song_id, song_name, score, pop, url))\n",
    "    return songList\n",
    "\n",
    "# get a user's profile\n",
    "# input: uId\n",
    "# output: user\n",
    "def getUserInfo(uId):\n",
    "    filepath = './trainData/UserInfo/'+uId+'_user.json'\n",
    "    if(not os.path.exists(filepath)):\n",
    "        parse_info('http://localhost:3000/user/detail?uid='+uId, filepath)\n",
    "    with open(filepath) as userInfo:\n",
    "        user_json = json.load(userInfo)['profile']\n",
    "    \n",
    "    user_id = user_json['userId']\n",
    "    user_name = user_json['nickname']\n",
    "    followeds = user_json['followeds']\n",
    "    follows = user_json['follows']\n",
    "    playlistCount = user_json['playlistCount']\n",
    "    \n",
    "    user = User(user_id, user_name, followeds, follows, playlistCount)\n",
    "        \n",
    "    return user\n",
    "    \n",
    "followsId, userList = getFollows('40356946')\n",
    "# songList = getRecord('40356946')\n",
    "# user_me = getUserInfo('40356946')"
   ]
  },
  {
   "cell_type": "markdown",
   "metadata": {},
   "source": [
    "### get users' info"
   ]
  },
  {
   "cell_type": "code",
   "execution_count": 9,
   "metadata": {},
   "outputs": [
    {
     "name": "stdout",
     "output_type": "stream",
     "text": [
      "500 th query, 5281 users fetched\n",
      "value error in this user's file!\n",
      "1000 th query, 10789 users fetched\n",
      "1500 th query, 15253 users fetched\n",
      "value error in this user's file!\n",
      "value error in this user's file!\n",
      "value error in this user's file!\n",
      "value error in this user's file!\n",
      "value error in this user's file!\n",
      "value error in this user's file!\n",
      "value error in this user's file!\n",
      "value error in this user's file!\n",
      "value error in this user's file!\n",
      "value error in this user's file!\n",
      "value error in this user's file!\n",
      "value error in this user's file!\n",
      "value error in this user's file!\n",
      "value error in this user's file!\n",
      "value error in this user's file!\n",
      "value error in this user's file!\n",
      "value error in this user's file!\n",
      "value error in this user's file!\n",
      "value error in this user's file!\n",
      "value error in this user's file!\n",
      "value error in this user's file!\n",
      "value error in this user's file!\n",
      "value error in this user's file!\n",
      "value error in this user's file!\n",
      "value error in this user's file!\n",
      "value error in this user's file!\n",
      "value error in this user's file!\n",
      "value error in this user's file!\n",
      "value error in this user's file!\n",
      "value error in this user's file!\n",
      "value error in this user's file!\n",
      "value error in this user's file!\n",
      "value error in this user's file!\n",
      "value error in this user's file!\n",
      "value error in this user's file!\n",
      "value error in this user's file!\n",
      "value error in this user's file!\n",
      "value error in this user's file!\n",
      "value error in this user's file!\n",
      "value error in this user's file!\n",
      "value error in this user's file!\n",
      "value error in this user's file!\n",
      "value error in this user's file!\n",
      "value error in this user's file!\n",
      "value error in this user's file!\n",
      "value error in this user's file!\n",
      "value error in this user's file!\n",
      "value error in this user's file!\n",
      "value error in this user's file!\n",
      "value error in this user's file!\n",
      "2000 th query, 19340 users fetched\n",
      "2500 th query, 22781 users fetched\n",
      "3000 th query, 26436 users fetched\n",
      "3500 th query, 30153 users fetched\n",
      "4000 th query, 33457 users fetched\n",
      "4500 th query, 38449 users fetched\n",
      "5000 th query, 43006 users fetched\n",
      "5500 th query, 46134 users fetched\n"
     ]
    }
   ],
   "source": [
    "import queue\n",
    "# start from one user, find a certain number of users, find their record, filter out those with pop less than 10.\n",
    "start_user_id = '40356946'\n",
    "start_user = getUserInfo(start_user_id)\n",
    "q = queue.Queue()\n",
    "\n",
    "q.put(start_user_id)\n",
    "\n",
    "user_dict = {start_user_id:start_user}\n",
    "\n",
    "count = 0\n",
    "while(len(user_dict) < 50000):\n",
    "    cur_user_id = q.get()\n",
    "    cur_user = user_dict[cur_user_id]\n",
    "#     print(cur_user_id)\n",
    "    try:\n",
    "        followsIdList, userList = getFollows(cur_user_id)\n",
    "    except ValueError:\n",
    "        print('value error in this user\\'s file!')\n",
    "        continue\n",
    "    \n",
    "    cur_user.setFollowsList(followsIdList)\n",
    "    \n",
    "    count += 1\n",
    "    if(count % 500 == 0):\n",
    "        print('%d th query, %d users fetched'%(count, len(user_dict)))\n",
    "    for (followsId, user) in zip(followsIdList, userList):\n",
    "        if(followsId not in user_dict):\n",
    "            user_dict[followsId] = user\n",
    "            q.put(followsId)"
   ]
  },
  {
   "cell_type": "markdown",
   "metadata": {},
   "source": [
    "### get song info"
   ]
  },
  {
   "cell_type": "code",
   "execution_count": 10,
   "metadata": {
    "scrolled": false
   },
   "outputs": [
    {
     "name": "stdout",
     "output_type": "stream",
     "text": [
      "1000 th user\n",
      "2000 th user\n",
      "3000 th user\n",
      "4000 th user\n",
      "5000 th user\n",
      "6000 th user\n",
      "7000 th user\n",
      "8000 th user\n",
      "9000 th user\n",
      "10000 th user\n",
      "11000 th user\n",
      "12000 th user\n",
      "13000 th user\n",
      "14000 th user\n",
      "15000 th user\n",
      "16000 th user\n",
      "17000 th user\n",
      "18000 th user\n",
      "19000 th user\n",
      "20000 th user\n",
      "21000 th user\n",
      "22000 th user\n",
      "23000 th user\n",
      "24000 th user\n",
      "25000 th user\n",
      "26000 th user\n",
      "27000 th user\n",
      "28000 th user\n",
      "29000 th user\n",
      "30000 th user\n",
      "31000 th user\n",
      "32000 th user\n",
      "33000 th user\n"
     ]
    }
   ],
   "source": [
    "i = 0\n",
    "total_song_ls = []\n",
    "for user in user_dict:\n",
    "    try:\n",
    "        song_ls = getRecord(user)\n",
    "    except (ValueError, KeyError):\n",
    "        continue\n",
    "    i +=1\n",
    "    total_song_ls.append(song_ls)\n",
    "    if(i % 1000 == 0):\n",
    "        print('%d th user'%i)"
   ]
  },
  {
   "cell_type": "code",
   "execution_count": 11,
   "metadata": {},
   "outputs": [
    {
     "name": "stdout",
     "output_type": "stream",
     "text": [
      "3114603\n"
     ]
    }
   ],
   "source": [
    "print(sum(len(l) for l in total_song_ls))"
   ]
  },
  {
   "cell_type": "code",
   "execution_count": 12,
   "metadata": {},
   "outputs": [],
   "source": [
    "song_id_lists = []\n",
    "all_song_objects = {}\n",
    "for l in total_song_ls:\n",
    "    temp = []\n",
    "    for song in l:\n",
    "        if(song.getPop() < 25 or song.getScore() < 20):\n",
    "            continue\n",
    "        if song.getSongId() not in all_song_objects.keys():\n",
    "            all_song_objects[song.getSongId()] = song\n",
    "        temp.append(song.getSongId())\n",
    "    song_id_lists.append(temp)\n",
    "\n",
    "\n",
    "del(total_song_ls)"
   ]
  },
  {
   "cell_type": "code",
   "execution_count": 13,
   "metadata": {},
   "outputs": [
    {
     "name": "stdout",
     "output_type": "stream",
     "text": [
      "33888 users with song lists\n",
      "284076 songs in total\n"
     ]
    }
   ],
   "source": [
    "song_lists_size = len(song_id_lists)\n",
    "songs_size = len(all_song_objects)\n",
    "print('%d users with song lists'%song_lists_size)\n",
    "print('%d songs in total'%songs_size)"
   ]
  },
  {
   "cell_type": "markdown",
   "metadata": {},
   "source": [
    "## Training"
   ]
  },
  {
   "cell_type": "markdown",
   "metadata": {},
   "source": [
    "### co-occurence matrix"
   ]
  },
  {
   "cell_type": "code",
   "execution_count": 14,
   "metadata": {},
   "outputs": [
    {
     "name": "stdout",
     "output_type": "stream",
     "text": [
      "2000 th list\n",
      "4000 th list\n",
      "6000 th list\n",
      "8000 th list\n",
      "10000 th list\n",
      "12000 th list\n",
      "14000 th list\n",
      "16000 th list\n",
      "18000 th list\n",
      "20000 th list\n",
      "22000 th list\n",
      "24000 th list\n",
      "26000 th list\n",
      "28000 th list\n",
      "30000 th list\n",
      "32000 th list\n"
     ]
    }
   ],
   "source": [
    "comat = {}\n",
    "for i in range(song_lists_size):\n",
    "    if((i+1)%2000 == 0):\n",
    "        print('%d th list'%(i+1))\n",
    "    for j in range(len(song_id_lists[i])):\n",
    "        sid = song_id_lists[i][j]\n",
    "        for k in range(len(song_id_lists[i])):\n",
    "            if(k == j):\n",
    "                continue\n",
    "            else:\n",
    "                p_sid = song_id_lists[i][k]\n",
    "                if((sid, p_sid) in comat.keys()):\n",
    "                    comat[(sid, p_sid)] += 1.0\n",
    "                else:\n",
    "                    comat[(sid, p_sid)] = 1.0\n",
    "                    \n",
    "comat = list(comat.items())"
   ]
  },
  {
   "cell_type": "code",
   "execution_count": 15,
   "metadata": {},
   "outputs": [],
   "source": [
    "comat = sorted(comat, key=lambda x: x[1])[::-1]"
   ]
  },
  {
   "cell_type": "code",
   "execution_count": 16,
   "metadata": {},
   "outputs": [],
   "source": [
    "# filter out co-occurence that's too small\n",
    "comat = [(song_pair, freq) for song_pair, freq in comat if freq > 2]"
   ]
  },
  {
   "cell_type": "code",
   "execution_count": 17,
   "metadata": {},
   "outputs": [],
   "source": [
    "# update the all_song_objects dict to final_dict_objects\n",
    "training_songs = set()\n",
    "for item in comat:\n",
    "    training_songs.add(item[0][0])\n",
    "    training_songs.add(item[0][1])\n",
    "    \n",
    "final_song_objects = {}\n",
    "for sid in all_song_objects.keys():\n",
    "    if(sid in training_songs):\n",
    "        final_song_objects[sid] = all_song_objects[sid]\n",
    "        \n",
    "del(all_song_objects)\n",
    "songs_size = len(final_song_objects)"
   ]
  },
  {
   "cell_type": "code",
   "execution_count": 18,
   "metadata": {},
   "outputs": [
    {
     "name": "stdout",
     "output_type": "stream",
     "text": [
      "42157\n"
     ]
    }
   ],
   "source": [
    "print(songs_size)"
   ]
  },
  {
   "cell_type": "code",
   "execution_count": 19,
   "metadata": {},
   "outputs": [],
   "source": [
    "sid2num = {sid:num for num, sid in enumerate(final_song_objects)}\n",
    "num2sid = {num:sid for num, sid in enumerate(final_song_objects)}"
   ]
  },
  {
   "cell_type": "markdown",
   "metadata": {},
   "source": [
    "### start training"
   ]
  },
  {
   "cell_type": "code",
   "execution_count": 20,
   "metadata": {},
   "outputs": [],
   "source": [
    "# declare hyper-parameters for training\n",
    "embed_size = 50\n",
    "batch_size = 250\n",
    "l_rate = 0.005\n",
    "num_epochs = 20\n",
    "log_iter = 100\n",
    "\n",
    "# parameter for weighting function\n",
    "alpha = 0.75\n",
    "xmax = 100"
   ]
  },
  {
   "cell_type": "code",
   "execution_count": 21,
   "metadata": {},
   "outputs": [],
   "source": [
    "# Weight function\n",
    "def wf(x):\n",
    "    ret = []\n",
    "    for i in range(len(x)):\n",
    "        if x[i] < xmax:\n",
    "            ret.append((x[i]/xmax)**alpha)\n",
    "        else:\n",
    "            ret.append(1)\n",
    "        \n",
    "    return Variable(torch.DoubleTensor(ret).unsqueeze(1), requires_grad=False)\n",
    "\n",
    "def log(x):\n",
    "    ret = []\n",
    "    for i in range(len(x)):\n",
    "        ret.append(math.log(x[i]))\n",
    "        \n",
    "    return Variable(torch.DoubleTensor(ret).unsqueeze(1), requires_grad=False)\n",
    "\n",
    "# Set up word vectors and biases\n",
    "def init_weights(pretrained, path=''):\n",
    "    if(pretrained):\n",
    "        l_embed_np = np.load(path + 'l_embed.npy')\n",
    "        r_embed_np = np.load(path + 'r_embed.npy')\n",
    "        l_biases_np = np.load(path + 'l_biases.npy')\n",
    "        r_biases_np = np.load(path + 'r_biases.npy')\n",
    "        l_embed = [Variable(torch.from_numpy(l_embed_np[i]), requires_grad=True) for i in range(l_embed_np.shape[0])]\n",
    "        r_embed = [Variable(torch.from_numpy(r_embed_np[i]), requires_grad=True) for i in range(r_embed_np.shape[0])]\n",
    "        l_biases = [Variable(torch.from_numpy(l_biases_np[i]), requires_grad=True) for i in range(l_biases_np.shape[0])]\n",
    "        r_biases = [Variable(torch.from_numpy(r_biases_np[i]), requires_grad=True) for i in range(r_biases_np.shape[0])]\n",
    "\n",
    "    else:\n",
    "        l_embed, r_embed = [\n",
    "            [Variable(torch.from_numpy(np.random.normal(0, 0.01, embed_size)),\n",
    "                requires_grad = True) for j in range(songs_size)] for i in range(2)]\n",
    "        l_biases, r_biases = [\n",
    "            [Variable(torch.from_numpy(np.random.normal(0, 0.01, 1)), \n",
    "                requires_grad = True) for j in range(songs_size)] for i in range(2)]  \n",
    "    \n",
    "    return l_embed, r_embed, l_biases, r_biases\n",
    "\n",
    "# Batch sampling function\n",
    "def gen_batch():\n",
    "    sample = np.random.choice(np.arange(len(comat)), size=batch_size, replace=False)\n",
    "    l_vecs, r_vecs, covals, l_v_bias, r_v_bias = [], [], [], [], []\n",
    "    for chosen in sample:\n",
    "        ind = comat[chosen][0]\n",
    "        l_vecs.append(l_embed[sid2num[ind[0]]])\n",
    "        r_vecs.append(r_embed[sid2num[ind[1]]])\n",
    "        covals.append(comat[chosen][1])\n",
    "        l_v_bias.append(l_biases[sid2num[ind[0]]])\n",
    "        r_v_bias.append(r_biases[sid2num[ind[1]]])\n",
    "        \n",
    "    return torch.stack(l_vecs), torch.stack(r_vecs), covals, torch.stack(l_v_bias), torch.stack(r_v_bias)"
   ]
  },
  {
   "cell_type": "code",
   "execution_count": 327,
   "metadata": {},
   "outputs": [
    {
     "name": "stderr",
     "output_type": "stream",
     "text": [
      "\n",
      "  0%|          | 0/13730 [00:00<?, ?it/s]\u001b[A\n",
      "Epoch [0/20], Iteration [2381/13730], BatchLoss: 0.0158:  17%|█▋        | 2382/13730 [39:03<3:06:04,  1.02it/s]"
     ]
    },
    {
     "ename": "KeyboardInterrupt",
     "evalue": "",
     "output_type": "error",
     "traceback": [
      "\u001b[0;31m---------------------------------------------------------------------------\u001b[0m",
      "\u001b[0;31mKeyboardInterrupt\u001b[0m                         Traceback (most recent call last)",
      "\u001b[0;32m<ipython-input-327-929be0b848b2>\u001b[0m in \u001b[0;36m<module>\u001b[0;34m()\u001b[0m\n\u001b[1;32m     18\u001b[0m         \u001b[0mavg_loss\u001b[0m \u001b[0;34m+=\u001b[0m \u001b[0mloss\u001b[0m\u001b[0;34m.\u001b[0m\u001b[0mdata\u001b[0m\u001b[0;34m/\u001b[0m\u001b[0mnum_batches\u001b[0m\u001b[0;34m\u001b[0m\u001b[0m\n\u001b[1;32m     19\u001b[0m         \u001b[0mloss\u001b[0m\u001b[0;34m.\u001b[0m\u001b[0mbackward\u001b[0m\u001b[0;34m(\u001b[0m\u001b[0;34m)\u001b[0m\u001b[0;34m\u001b[0m\u001b[0m\n\u001b[0;32m---> 20\u001b[0;31m         \u001b[0moptimizer\u001b[0m\u001b[0;34m.\u001b[0m\u001b[0mstep\u001b[0m\u001b[0;34m(\u001b[0m\u001b[0;34m)\u001b[0m\u001b[0;34m\u001b[0m\u001b[0m\n\u001b[0m\u001b[1;32m     21\u001b[0m         \u001b[0;32mif\u001b[0m \u001b[0mbatch\u001b[0m \u001b[0;34m%\u001b[0m \u001b[0;36m1\u001b[0m \u001b[0;34m==\u001b[0m \u001b[0;36m0\u001b[0m\u001b[0;34m:\u001b[0m\u001b[0;34m\u001b[0m\u001b[0m\n\u001b[1;32m     22\u001b[0m             tq.set_description('Epoch [%d/%d], Iteration [%d/%d], BatchLoss: %.4f'\n",
      "\u001b[0;32m~/.pyenv/versions/3.6.0/lib/python3.6/site-packages/torch/optim/adam.py\u001b[0m in \u001b[0;36mstep\u001b[0;34m(self, closure)\u001b[0m\n\u001b[1;32m     72\u001b[0m                 \u001b[0mdenom\u001b[0m \u001b[0;34m=\u001b[0m \u001b[0mexp_avg_sq\u001b[0m\u001b[0;34m.\u001b[0m\u001b[0msqrt\u001b[0m\u001b[0;34m(\u001b[0m\u001b[0;34m)\u001b[0m\u001b[0;34m.\u001b[0m\u001b[0madd_\u001b[0m\u001b[0;34m(\u001b[0m\u001b[0mgroup\u001b[0m\u001b[0;34m[\u001b[0m\u001b[0;34m'eps'\u001b[0m\u001b[0;34m]\u001b[0m\u001b[0;34m)\u001b[0m\u001b[0;34m\u001b[0m\u001b[0m\n\u001b[1;32m     73\u001b[0m \u001b[0;34m\u001b[0m\u001b[0m\n\u001b[0;32m---> 74\u001b[0;31m                 \u001b[0mbias_correction1\u001b[0m \u001b[0;34m=\u001b[0m \u001b[0;36m1\u001b[0m \u001b[0;34m-\u001b[0m \u001b[0mbeta1\u001b[0m \u001b[0;34m**\u001b[0m \u001b[0mstate\u001b[0m\u001b[0;34m[\u001b[0m\u001b[0;34m'step'\u001b[0m\u001b[0;34m]\u001b[0m\u001b[0;34m\u001b[0m\u001b[0m\n\u001b[0m\u001b[1;32m     75\u001b[0m                 \u001b[0mbias_correction2\u001b[0m \u001b[0;34m=\u001b[0m \u001b[0;36m1\u001b[0m \u001b[0;34m-\u001b[0m \u001b[0mbeta2\u001b[0m \u001b[0;34m**\u001b[0m \u001b[0mstate\u001b[0m\u001b[0;34m[\u001b[0m\u001b[0;34m'step'\u001b[0m\u001b[0;34m]\u001b[0m\u001b[0;34m\u001b[0m\u001b[0m\n\u001b[1;32m     76\u001b[0m                 \u001b[0mstep_size\u001b[0m \u001b[0;34m=\u001b[0m \u001b[0mgroup\u001b[0m\u001b[0;34m[\u001b[0m\u001b[0;34m'lr'\u001b[0m\u001b[0;34m]\u001b[0m \u001b[0;34m*\u001b[0m \u001b[0mmath\u001b[0m\u001b[0;34m.\u001b[0m\u001b[0msqrt\u001b[0m\u001b[0;34m(\u001b[0m\u001b[0mbias_correction2\u001b[0m\u001b[0;34m)\u001b[0m \u001b[0;34m/\u001b[0m \u001b[0mbias_correction1\u001b[0m\u001b[0;34m\u001b[0m\u001b[0m\n",
      "\u001b[0;31mKeyboardInterrupt\u001b[0m: "
     ]
    }
   ],
   "source": [
    "# init weights\n",
    "l_embed, r_embed, l_biases, r_biases = init_weights(pretrained=True, path='./trained_weights/2500b_5e-3l/')\n",
    "# l_embed, r_embed, l_biases, r_biases = init_weights(False)\n",
    "# Set up optimizer\n",
    "optimizer = optim.Adam(l_embed + r_embed + l_biases + r_biases, lr = l_rate)\n",
    "\n",
    "\n",
    "# Train model\n",
    "for epoch in range(num_epochs):\n",
    "    num_batches = int(len(comat)/batch_size)\n",
    "    avg_loss = 0.0\n",
    "    tq = tqdm(range(num_batches))\n",
    "    for batch in tq:\n",
    "        optimizer.zero_grad()\n",
    "        l_vecs, r_vecs, covals, l_v_bias, r_v_bias = gen_batch()\n",
    "        loss =  ( (( torch.bmm(l_vecs.view(batch_size, 1, embed_size), r_vecs.view(batch_size, embed_size, 1)).squeeze(2) +\n",
    "                l_v_bias + r_v_bias - log(covals) )**2 * wf(covals)).sum() ) / batch_size\n",
    "        avg_loss += loss.data/num_batches\n",
    "        loss.backward()\n",
    "        optimizer.step()\n",
    "        if batch % 1 == 0:\n",
    "            tq.set_description('Epoch [%d/%d], Iteration [%d/%d], BatchLoss: %.4f'\n",
    "                  %(epoch, num_epochs, batch, num_batches, loss.data))\n",
    "    print('average loss for this epoch:%.4f'%avg_loss)\n",
    "#         print('Epoch [%d/%d], Iteration [%d/%d], Loss: %.4f'\n",
    "#               %(epoch, num_epochs, batch, num_batches, avg_loss)) \n",
    "    np.save('l_embed.npy', torch.stack(l_embed).data.numpy())\n",
    "    np.save('r_embed.npy', torch.stack(r_embed).data.numpy())\n",
    "    np.save('l_biases.npy', torch.stack(l_biases).data.numpy())\n",
    "    np.save('r_biases.npy', torch.stack(r_biases).data.numpy())"
   ]
  },
  {
   "cell_type": "markdown",
   "metadata": {},
   "source": [
    "## Testing"
   ]
  },
  {
   "cell_type": "markdown",
   "metadata": {},
   "source": [
    "### load vectors for songs"
   ]
  },
  {
   "cell_type": "code",
   "execution_count": 22,
   "metadata": {},
   "outputs": [],
   "source": [
    "l_embed, r_embed, l_biases, r_biases = init_weights(pretrained=True, path='./trained_weights/2500b_5e-3l/')"
   ]
  },
  {
   "cell_type": "code",
   "execution_count": 23,
   "metadata": {},
   "outputs": [],
   "source": [
    "embed = []\n",
    "for i in range(len(l_embed)):\n",
    "    embed.append(l_embed[i].data.numpy() + r_embed[i].data.numpy())"
   ]
  },
  {
   "cell_type": "code",
   "execution_count": 24,
   "metadata": {},
   "outputs": [],
   "source": [
    "# get a user's record list\n",
    "# input: uId\n",
    "# output: songList(list of Music objs)\n",
    "def getRecord(uId):\n",
    "    songList = []\n",
    "    filepath = './testData/MusicInfo/'+uId+'_record.json'\n",
    "    if(not os.path.exists(filepath)):\n",
    "        parse_info('http://localhost:3000/user/record?uid='+uId+'&type=0',filepath)\n",
    "    with open(filepath) as records:\n",
    "        records = json.load(records)['allData']\n",
    "    for i in range(len(records)):\n",
    "        song_id = records[i]['song']['id']\n",
    "        song_name = records[i]['song']['name']        \n",
    "        score = records[i]['score']\n",
    "        if('pop' in records[i]['song'].keys()):\n",
    "            pop = records[i]['song']['pop']\n",
    "        else:\n",
    "            pop = 10\n",
    "        \n",
    "        if('picUrl' in records[i]['song']['al']):\n",
    "            url = records[i]['song']['al']['picUrl']\n",
    "        else:\n",
    "            url = ''\n",
    "        \n",
    "        songList.append(Music(song_id, song_name, score, pop, url))\n",
    "    return songList\n",
    "\n",
    "# get a user's profile\n",
    "# input: uId\n",
    "# output: user\n",
    "def getUserInfo(uId):\n",
    "    filepath = './testData/UserInfo/'+uId+'_user.json'\n",
    "    if(not os.path.exists(filepath)):\n",
    "        parse_info('http://localhost:3000/user/detail?uid='+uId, filepath)"
   ]
  },
  {
   "cell_type": "markdown",
   "metadata": {},
   "source": [
    "### get recommendation for a user"
   ]
  },
  {
   "cell_type": "code",
   "execution_count": 25,
   "metadata": {},
   "outputs": [],
   "source": [
    "def getRecom(uid):\n",
    "    getUserInfo(uid)\n",
    "    my_music = getRecord(uid)\n",
    "\n",
    "    scores = {}\n",
    "    for sid in final_song_objects.keys():\n",
    "        score = 0\n",
    "        s_embed = embed[sid2num[sid]]\n",
    "        for m in my_music:\n",
    "            if(m.getSongId() != sid and m.getSongId() in final_song_objects):\n",
    "                m_embed = embed[sid2num[m.getSongId()]]\n",
    "                score += m.getScore() * m_embed.dot(s_embed)\n",
    "                \n",
    "        scores[sid] = score\n",
    "\n",
    "    # return all the scores, but save top 10 for showing in frontend\n",
    "    scores = sorted(scores.items(), key=lambda x: x[1])[::-1]\n",
    "    recommended_list = []\n",
    "    for score in scores[:10]:\n",
    "        recommended = {}\n",
    "        recommended['sid'] = score[0]\n",
    "        recommended['score'] = score[1]\n",
    "        recommended['name'] = final_song_objects[score[0]].getSongName()\n",
    "        recommended['image'] = final_song_objects[score[0]].getSongUrl()\n",
    "        recommended_list.append(recommended)\n",
    "    with open('./testData/recom/'+uid+'_recom.json', 'w') as outfile:\n",
    "        json.dump(recommended_list, outfile)\n",
    "    return scores"
   ]
  },
  {
   "cell_type": "markdown",
   "metadata": {},
   "source": [
    "### see how many songs that this user actually listened to is returned"
   ]
  },
  {
   "cell_type": "code",
   "execution_count": 28,
   "metadata": {},
   "outputs": [],
   "source": [
    "def getRecall(uid):\n",
    "    recall = 0\n",
    "    listened_ids = set()\n",
    "    url = 'http://localhost:3000/user/playlist?uid=' + uid\n",
    "    req = request.Request(url)\n",
    "    response = request.urlopen(req)\n",
    "    lists = json.load(response)['playlist']\n",
    "    for l in lists:\n",
    "        lid = l['id']\n",
    "        url = 'http://localhost:3000/playlist/detail?id=' + str(lid)\n",
    "        req = request.Request(url)\n",
    "        response = request.urlopen(req)\n",
    "        j = json.load(response)\n",
    "        if('result' in j):\n",
    "            songs = j['result']['tracks']\n",
    "            for song in songs:\n",
    "                if song['id'] in final_song_objects.keys():\n",
    "                    listened_ids.add(song['id'])\n",
    "    recom = getRecom(uid)[:100]\n",
    "    fav_list = [s.getSongId() for s in getRecord(uid)]\n",
    "    for r in recom:\n",
    "        if(r[0] in listened_ids and r[0] not in fav_list):\n",
    "#             print('recalled song:', r[0], final_song_objects[r[0]].getSongName())\n",
    "            recall+= 1\n",
    "        elif(r[0] not in listened_ids):\n",
    "            print('recalled new songs:', r[0], final_song_objects[r[0]].getSongName())\n",
    "        else:\n",
    "            pass\n",
    "    \n",
    "    return recall"
   ]
  },
  {
   "cell_type": "code",
   "execution_count": 30,
   "metadata": {},
   "outputs": [
    {
     "name": "stdout",
     "output_type": "stream",
     "text": [
      "[{'sid': 94714, 'score': 4154.918367901472, 'name': '垃圾', 'image': 'http://p4.music.126.net/T9nGuH3jv0Rq0iWYeOhvAQ==/30786325589804.jpg'}, {'sid': 26598642, 'score': 4068.515692658749, 'name': '天台的月光', 'image': 'http://p4.music.126.net/WcMYUVb3tlDmwyhJf3hnHw==/2367248534662893.jpg'}, {'sid': 188878, 'score': 3999.01919941412, 'name': '不吐不快', 'image': 'http://p4.music.126.net/S9v35eT-YqqZ5hyVupinKw==/59373627912193.jpg'}, {'sid': 287011, 'score': 3943.1887894064675, 'name': '16号爱人', 'image': 'http://p4.music.126.net/-AbqAK1kXKhwbEucFRBsjw==/62672162795489.jpg'}, {'sid': 287705, 'score': 3913.4054880034437, 'name': '痛爱', 'image': 'http://p3.music.126.net/S0eFD_UoSxorcGOZS7h_9w==/19034745300317552.jpg'}, {'sid': 65565, 'score': 3876.0285764866126, 'name': '最后今晚', 'image': 'http://p4.music.126.net/bRLW5RFIO9_lCsVJT4-L9A==/109951163067349766.jpg'}, {'sid': 326736, 'score': 3859.8614620847206, 'name': '无状态', 'image': 'http://p4.music.126.net/bezPkH4o8dy5jzvhBCZUeg==/18697195232111157.jpg'}, {'sid': 28138170, 'score': 3799.85148889702, 'name': '尘埃落定', 'image': 'http://p3.music.126.net/MbAMGidLob2YUEsw732PXw==/18815942488049510.jpg'}, {'sid': 188384, 'score': 3779.593211830567, 'name': '樱花树下', 'image': 'http://p4.music.126.net/WZY0jAKYiRd0tL7wyJn7zg==/38482906984309.jpg'}, {'sid': 235086, 'score': 3762.1546918466565, 'name': '梦伴', 'image': 'http://p3.music.126.net/cJ5oltThq9dBCnFm1mE_VQ==/927987813843291.jpg'}]\n",
      "recalled new songs: 26598642 天台的月光\n",
      "recalled new songs: 188878 不吐不快\n",
      "recalled new songs: 65565 最后今晚\n",
      "recalled new songs: 326736 无状态\n",
      "recalled new songs: 28138170 尘埃落定\n",
      "recalled new songs: 188384 樱花树下\n",
      "recalled new songs: 235086 梦伴\n",
      "recalled new songs: 307166 奇洛李维斯回信(真的回信了)\n",
      "recalled new songs: 317000 咬唇\n",
      "recalled new songs: 229835 绝\n",
      "recalled new songs: 146927 爱的故事(下)-但愿他珍惜你\n",
      "recalled new songs: 27867506 绝\n",
      "recalled new songs: 27598818 捞月亮的人\n",
      "recalled new songs: 31514953 回到最爱的那天\n",
      "recalled new songs: 188254 井\n",
      "recalled new songs: 188376 披星戴月\n",
      "recalled new songs: 27867507 破相\n",
      "recalled new songs: 435307753 Don't Break My Heart\n",
      "recalled new songs: 351219 那就这样吧\n",
      "recalled new songs: 28391342 挂住你\n",
      "recalled new songs: 16823351 The World Is Gray\n",
      "recalled new songs: 27867519 给十年后的我\n",
      "recalled new songs: 422104138 后来的我们\n",
      "recalled new songs: 479422970 벌떼 (B-DAY)\n",
      "recalled new songs: 224088 七夕\n",
      "recalled new songs: 29572512 You Are In Love\n",
      "recalled new songs: 34509603 Like Sunday, Like Rain\n",
      "recalled new songs: 64874 歌·颂\n",
      "recalled new songs: 28568131 Love Someone\n",
      "recalled new songs: 27483203 失忆蝴蝶\n",
      "recalled new songs: 517901535 Mine\n",
      "recalled new songs: 110790 明知故犯\n",
      "recalled new songs: 26598212 飘浮女孩\n",
      "recalled new songs: 22841995 Love Love Love\n",
      "recalled new songs: 316509 飞女正传\n",
      "recalled new songs: 142584 悬崖\n",
      "recalled new songs: 31446447 边城\n",
      "recalled new songs: 286820 破相\n",
      "recalled new songs: 65904 十面埋伏(Live)\n",
      "recalled new songs: 135334 没有人\n",
      "recalled new songs: 192409 祝君好\n",
      "recalled new songs: 26620811 为你钟情\n",
      "recalled new songs: 27571440 Applause\n",
      "recalled new songs: 307115 男孩像你\n",
      "recalled new songs: 442898703 长大的童话\n",
      "recalled new songs: 28111610 单打独斗\n",
      "recalled new songs: 329925 最爱\n",
      "recalled new songs: 423406119 꼬리쳐\n",
      "recalled new songs: 186699 共同渡过\n",
      "recalled new songs: 540042 Loveless (Instrumental)\n",
      "recalled new songs: 28528403 青春常驻\n",
      "recalled new songs: 515796410 沙发\n",
      "recalled new songs: 299519 迷魂记\n",
      "recalled new songs: 326702 我想你要走了\n",
      "recalled new songs: 34834450 雷克雅未克\n",
      "recalled new songs: 26577335 Mi Mi Mi (Radio Edit)\n",
      "recalled new songs: 26353080 蜚蜚\n",
      "recalled new songs: 2119776 La La Land\n",
      "recalled new songs: 22822543 Merry Christmas Mr. Lawrence\n",
      "recalled new songs: 5050623 Goodnight Moon\n",
      "recalled new songs: 34033438 野子\n",
      "recalled new songs: 36861904 相爱很难(电影\"男人四十\"歌曲)\n",
      "recalled new songs: 28409169 West Coast\n",
      "recalled new songs: 22706980 渚\n",
      "recalled new songs: 25653001 四季列车\n",
      "recalled new songs: 26619637 U & I\n",
      "recalled new songs: 190372 分手总要在雨天\n",
      "recalled new songs: 308169 年度之歌\n",
      "recalled new songs: 29431288 独家村\n",
      "recalled new songs: 185948 一路向北\n",
      "recalled new songs: 29728006 광화문에서 (At Gwanghwamun)\n",
      "recalled new songs: 66265 阿牛\n",
      "recalled new songs: 316628 感应\n",
      "recalled new songs: 32924539 你不是真正的快乐\n",
      "recalled new songs: 437856031 聖数3の二乗\n",
      "recalled new songs: 32924130 Cool For the Summer\n",
      "recalled new songs: 41672246 Tonight (Extended Mix)\n",
      "recalled new songs: 192326 未婚妻(Live) - live\n",
      "recalled new songs: 422104166 顽固\n",
      "recalled new songs: 3313757 Rude Boy\n",
      "recalled new songs: 29431284 울컥\n",
      "recalled new songs: 32897793 拂雪(纯歌版)\n",
      "recalled new songs: 21616332 Snuff\n"
     ]
    },
    {
     "data": {
      "text/plain": [
       "14"
      ]
     },
     "execution_count": 30,
     "metadata": {},
     "output_type": "execute_result"
    }
   ],
   "source": [
    "getRecall('40356946')"
   ]
  },
  {
   "cell_type": "markdown",
   "metadata": {},
   "source": [
    "### run getRecall for users"
   ]
  },
  {
   "cell_type": "code",
   "execution_count": null,
   "metadata": {},
   "outputs": [],
   "source": [
    "i = 0\n",
    "rec = []\n",
    "for uid in user_dict.keys():\n",
    "    print('%d th user'%(i+1))\n",
    "    try:\n",
    "        r = getRecall(uid)\n",
    "        print(r)\n",
    "        rec.append(r)\n",
    "    except (ValueError, KeyError):\n",
    "        print('value error in this user\\'s file!')\n",
    "        continue\n",
    "    i += 1\n",
    "    if(i==100):\n",
    "        break"
   ]
  },
  {
   "cell_type": "markdown",
   "metadata": {},
   "source": [
    "### run similarity test"
   ]
  },
  {
   "cell_type": "code",
   "execution_count": 44,
   "metadata": {},
   "outputs": [],
   "source": [
    "def cosineSim(a, b):\n",
    "    norma = 0\n",
    "    normb = 0\n",
    "    prod = 0\n",
    "    for i in range(len(a)):\n",
    "        prod += a[i] * b[i]\n",
    "        norma += a[i] ** 2\n",
    "        normb += b[i] ** 2\n",
    "    norma = norma ** 0.5\n",
    "    normb = normb ** 0.5\n",
    "    return prod / (norma * normb)"
   ]
  },
  {
   "cell_type": "code",
   "execution_count": 50,
   "metadata": {},
   "outputs": [
    {
     "name": "stdout",
     "output_type": "stream",
     "text": [
      "Query song name:动物世界\n",
      "动物世界\n",
      "高尚\n",
      "我害怕\n",
      "暧昧\n",
      "我好像在哪见过你\n"
     ]
    }
   ],
   "source": [
    "testIndex = 100\n",
    "t = embed[testIndex]\n",
    "\n",
    "print('Query song name:%s'%final_song_objects[num2sid[testIndex]].getSongName())\n",
    "sim = {}\n",
    "for i, e in enumerate(embed):\n",
    "    sim[i] = cosineSim(t, e)\n",
    "\n",
    "sim = sorted(sim.items(), key=lambda x: x[1])[::-1][:5]\n",
    "for s in sim:\n",
    "    print(final_song_objects[num2sid[s[0]]].getSongName())"
   ]
  },
  {
   "cell_type": "markdown",
   "metadata": {},
   "source": [
    "### run analogy test"
   ]
  },
  {
   "cell_type": "code",
   "execution_count": 61,
   "metadata": {},
   "outputs": [],
   "source": [
    "def analogy(a, b, c):\n",
    "    print('[%s] to [%s] is like [%s] to ...'% (final_song_objects[num2sid[a]].getSongName(),\\\n",
    "                                              final_song_objects[num2sid[b]].getSongName(),\\\n",
    "                                              final_song_objects[num2sid[c]].getSongName()))\n",
    "    obj = embed[b] + embed[c] - embed[a]\n",
    "    sim = {}\n",
    "    \n",
    "    for i, e in enumerate(embed):\n",
    "        sim[i] = cosineSim(obj, e)\n",
    "\n",
    "    sim = sorted(sim.items(), key=lambda x: x[1])[::-1][:5]\n",
    "    for s in sim:\n",
    "        print(final_song_objects[num2sid[s[0]]].getSongName())"
   ]
  },
  {
   "cell_type": "code",
   "execution_count": 65,
   "metadata": {},
   "outputs": [
    {
     "name": "stdout",
     "output_type": "stream",
     "text": [
      "[Holy Wars...The Punishment Due] to [动物世界] is like [Paranoid Android] to ...\n",
      "高尚\n",
      "动物世界\n",
      "我害怕\n",
      "火星人来过\n",
      "其实\n"
     ]
    }
   ],
   "source": [
    "analogy(0, 100, 10)"
   ]
  },
  {
   "cell_type": "code",
   "execution_count": 52,
   "metadata": {},
   "outputs": [
    {
     "name": "stdout",
     "output_type": "stream",
     "text": [
      "Holy Wars...The Punishment Due\n",
      "Friday I'm In Love\n",
      "Symphony of Destruction\n",
      "Gem\n",
      "Paranoid\n",
      "Soothsayer (dedicated to Aunt Suzie)\n",
      "They Will Return\n",
      "Master Of Puppets\n",
      "Hangar 18\n",
      "Children Of Decedence\n",
      "Paranoid Android\n",
      "Sled Ride\n",
      "Dialectic Chaos\n",
      "Claymation Courtyard\n",
      "妳太善良\n",
      "走狗\n",
      "Thinking Out Loud\n",
      "18 and Life\n",
      "Big D's Touch\n",
      "Comfortably Numb\n",
      "我本人\n",
      "重复犯错\n",
      "A Tout le Monde\n",
      "吴哥窟\n",
      "Cemetery Gates\n",
      "伊斯坦堡\n",
      "传闻\n",
      "好得很\n",
      "Angel Of Death\n",
      "\t Lost for Words\n",
      "懦夫\n",
      "小白\n",
      "Holy Wars...The Punishment Due (2004 Digital Remaster)\n",
      "Hater\n",
      "上次讲到\n",
      "Lake Bodom\n",
      "街灯晚餐\n",
      "Photographs\n",
      "Skin O' My Teeth\n",
      "Chainsaw Slide\n",
      "Painkiller\n",
      "公主病\n",
      "Hallowed Be Thy Name\n",
      "Can I Live Again\n",
      "听见下雨的声音\n",
      "面具\n",
      "孤独的自由\n",
      "Paranoid\n",
      "Coming Undone\n",
      "想哭\n",
      "喜帖街\n",
      "坏翅膀\n",
      "Reflective\n",
      "Tornado Of Souls\n",
      "宏愿\n",
      "烟霞\n",
      "Wait And Bleed\n",
      "Stretching Lighthouse\n",
      "斩黄袍\n",
      "茶底世界\n",
      "Psychosocial\n",
      "Nothing Hurts Like This\n",
      "Train of Consequences\n",
      "无人之境\n",
      "会没事的\n",
      "EMOTIONS\n",
      "梦回唐朝\n",
      "Ride The Lightning\n",
      "Everytime I Die\n",
      "黄粱梦\n",
      "登对\n",
      "够钟\n",
      "爱与诚\n",
      "必杀技\n",
      "手写的从前\n",
      "Don't Look Back in Anger\n",
      "Sweet Child O' Mine\n",
      "无理诗人\n",
      "One more time, One more chance\n",
      "只有音乐才是我的解药\n",
      "晚安北京\n",
      "Married With Children\n",
      "Wake Me Up When September Ends\n",
      "Jesus Of Suburbia (Album Version)\n",
      "American Idiot\n",
      "不要把我忘记\n",
      "The fear in my heart\n",
      "When I Come Around\n",
      "杀死那个石家庄人\n",
      "Cornfield Chase\n",
      "One\n",
      "旅路(梦中飞行)\n",
      "人生的回转木马\n",
      "그XX\n",
      "In Waves\n",
      "呼吸决定\n",
      "Love Will Keep Us Alive - Album Version\n",
      "Faded (Conor Maynard Cover)\n",
      "Lost Stars\n",
      "不该(with aMEI)\n"
     ]
    }
   ],
   "source": [
    "i = 0\n",
    "for k in final_song_objects.keys():\n",
    "    print(final_song_objects[k].getSongName())\n",
    "    i += 1\n",
    "    if(i == 100):\n",
    "        break"
   ]
  },
  {
   "cell_type": "code",
   "execution_count": null,
   "metadata": {},
   "outputs": [],
   "source": []
  }
 ],
 "metadata": {
  "kernelspec": {
   "display_name": "Python 3",
   "language": "python",
   "name": "python3"
  },
  "language_info": {
   "codemirror_mode": {
    "name": "ipython",
    "version": 3
   },
   "file_extension": ".py",
   "mimetype": "text/x-python",
   "name": "python",
   "nbconvert_exporter": "python",
   "pygments_lexer": "ipython3",
   "version": "3.6.0"
  }
 },
 "nbformat": 4,
 "nbformat_minor": 2
}
