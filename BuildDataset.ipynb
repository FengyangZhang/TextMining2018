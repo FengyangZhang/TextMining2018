{
 "cells": [
  {
   "cell_type": "code",
   "execution_count": 23,
   "metadata": {},
   "outputs": [],
   "source": [
    "import json\n",
    "import sys\n",
    "import os\n",
    "import numpy as np\n",
    "import urllib.request\n",
    "import requests"
   ]
  },
  {
   "cell_type": "markdown",
   "metadata": {},
   "source": [
    "## Test what data do we have"
   ]
  },
  {
   "cell_type": "code",
   "execution_count": 28,
   "metadata": {},
   "outputs": [],
   "source": [
    "def parse_info(url,file_name):    \n",
    "    response = requests.get(url)\n",
    "    with open(file_name, \"wb\") as code:\n",
    "        code.write(response.content)"
   ]
  },
  {
   "cell_type": "code",
   "execution_count": 35,
   "metadata": {},
   "outputs": [],
   "source": [
    "# listen record\n",
    "with open('./testData/myRecord.json') as record:\n",
    "    record_json = json.load(record)['allData']\n",
    "    \n",
    "#friends id, top100 music input userid    \n",
    "# follow list\n",
    "with open('./testData/myFollows.json') as follows:\n",
    "    follows_json = json.load(follows)['follow']\n",
    "    \n",
    "with open('./testData/detail.json') as user:\n",
    "    user_json = json.load(user)['profile']"
   ]
  },
  {
   "cell_type": "code",
   "execution_count": 5,
   "metadata": {},
   "outputs": [],
   "source": [
    "class User():\n",
    "    def __init__(self, user_id, user_name, followeds, follows, playlistCount):\n",
    "        self.user_id = user_id\n",
    "        self.user_name = user_name\n",
    "        self.followed_num = followeds\n",
    "        self.follows_num = follows\n",
    "        self.playlist_num = playlistCount\n",
    "        self.follows_list = []\n",
    "    \n",
    "    def getUserId(self):\n",
    "        return self.user_id\n",
    "    \n",
    "    def getUserName(self):\n",
    "        return self.user_name\n",
    "    \n",
    "    def getFollowedNum(self):\n",
    "        return self.followed_num\n",
    "    \n",
    "    def getFollowsNum(self):\n",
    "        return self.follows_num\n",
    "    \n",
    "    def getPlaylistNum(self):\n",
    "        return self.playlist_num\n",
    "    \n",
    "    def getFollowsList(self):\n",
    "        return self.follows_list\n",
    "    \n",
    "    def setUserId(self, user_id):\n",
    "        self.user_id = user_id\n",
    "    \n",
    "    def setUserName(self, user_name):\n",
    "        self.user_name = user_name\n",
    "    \n",
    "    def setFollowedNum(self, followed_num):\n",
    "        self.followed_num = followed_num\n",
    "    \n",
    "    def setFollowsNum(self, follows_num):\n",
    "        self.follows_num = follows_num\n",
    "    \n",
    "    def setPlaylistNum(self, playlist_num):\n",
    "        self.playlist_num = playlist_num\n",
    "        \n",
    "    def setFollowsList(self, follows_list):\n",
    "        self.follows_list = follows_list"
   ]
  },
  {
   "cell_type": "code",
   "execution_count": 6,
   "metadata": {},
   "outputs": [],
   "source": [
    "class Music():\n",
    "    def __init__(self, song_id, song_name, score):\n",
    "        self.song_id = song_id\n",
    "        self.song_name = song_name\n",
    "        self.score = score\n",
    "    \n",
    "    def getSongId(self):\n",
    "        return song_id\n",
    "    \n",
    "    def getSongName(self):\n",
    "        return song_name\n",
    "    \n",
    "    def getScore(self):\n",
    "        return score\n",
    "    \n",
    "    def setSongId(self, song_id): \n",
    "        self.song_id = song_id\n",
    "        \n",
    "    def setSongName(self, song_name):\n",
    "        self.song_name = song_name\n",
    "        \n",
    "    def setScore(self, score):\n",
    "        self.score = score"
   ]
  },
  {
   "cell_type": "code",
   "execution_count": 39,
   "metadata": {},
   "outputs": [],
   "source": [
    "# get a user's follows list\n",
    "# input: uId\n",
    "# output: followsId(list of ids), userList(List of User objs) \n",
    "def getFollows(uId):\n",
    "    followsId = []\n",
    "    userList = []\n",
    "    filepath = './trainData/FollowsInfo/'+uId+'_follows.json'\n",
    "    if(not os.path.exists(filepath)):\n",
    "        parse_info('http://localhost:3000/user/follows?uid='+uId, filepath)\n",
    "    with open(filepath) as follows:\n",
    "        follows_json = json.load(follows)['follow']\n",
    "    for i in range (len(follows_json)):\n",
    "        user_id = follows_json[i]['userId']\n",
    "        user_name = follows_json[i]['nickname']\n",
    "        followeds = follows_json[i]['followeds']\n",
    "        follows = follows_json[i]['follows']\n",
    "        playlistCount = follows_json[i]['playlistCount']\n",
    "        followsId.append(user_id)\n",
    "        userList.append(User(user_id, user_name, followeds, follows, playlistCount))\n",
    "        \n",
    "    return followsId, userList\n",
    "\n",
    "\n",
    "# get a user's record list\n",
    "# input: uId\n",
    "# output: songList(list of Music objs)\n",
    "def getRecord(uId):\n",
    "    songList = []\n",
    "    filepath = './trainData/MusicInfo/'+uId+'_record.json'\n",
    "    if(not os.path.exists(filepath)):\n",
    "        parse_info('http://localhost:3000/user/record?uid='+uId+'&type=0',filepath)\n",
    "    with open(filepath) as records:\n",
    "        records = json.load(records)['allData']\n",
    "    for i in range(len(records)):\n",
    "        song_id = records[i]['song']['id']\n",
    "        song_name = records[i]['song']['name']\n",
    "        score = records[i]['score']\n",
    "        songList.append(Music(song_id, song_name, score))\n",
    "    return songList\n",
    "\n",
    "# get a user's profile\n",
    "# input: uId\n",
    "# output: user\n",
    "def getUserInfo(uId):\n",
    "    filepath = './trainData/UserInfo/'+uId+'_user.json'\n",
    "    if(not os.path.exists(filepath)):\n",
    "        parse_info('http://localhost:3000/user/detail?uid='+uId, filepath)\n",
    "    with open(filepath) as userInfo:\n",
    "        user_json = json.load(userInfo)['profile']\n",
    "    \n",
    "    user_id = user_json['userId']\n",
    "    user_name = user_json['nickname']\n",
    "    followeds = user_json['followeds']\n",
    "    follows = user_json['follows']\n",
    "    playlistCount = user_json['playlistCount']\n",
    "    \n",
    "    user = User(user_id, user_name, followeds, follows, playlistCount)\n",
    "        \n",
    "    return user\n",
    "    \n",
    "followsId, userList = getFollows('40356946')\n",
    "songList = getRecord('40356946')\n",
    "user_me = getUserInfo('40356946')"
   ]
  },
  {
   "cell_type": "markdown",
   "metadata": {},
   "source": [
    "## Build co-occurrence matrix"
   ]
  },
  {
   "cell_type": "code",
   "execution_count": null,
   "metadata": {},
   "outputs": [],
   "source": [
    "# start from one user, find a certain number of users, find their record, filter out those with pop less than 10.\n",
    "user_me = getUserInfo('40356946')"
   ]
  }
 ],
 "metadata": {
  "kernelspec": {
   "display_name": "Python 3",
   "language": "python",
   "name": "python3"
  },
  "language_info": {
   "codemirror_mode": {
    "name": "ipython",
    "version": 3
   },
   "file_extension": ".py",
   "mimetype": "text/x-python",
   "name": "python",
   "nbconvert_exporter": "python",
   "pygments_lexer": "ipython3",
   "version": "3.6.0"
  }
 },
 "nbformat": 4,
 "nbformat_minor": 2
}
